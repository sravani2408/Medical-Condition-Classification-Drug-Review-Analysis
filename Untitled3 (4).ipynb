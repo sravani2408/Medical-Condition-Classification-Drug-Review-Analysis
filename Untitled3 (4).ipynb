{
  "cells": [
    {
      "cell_type": "code",
      "execution_count": 1,
      "metadata": {
        "id": "rf21NJjmxEKK"
      },
      "outputs": [],
      "source": [
        "import pandas as pd\n",
        "import itertools #for plotting confusion matrix\n",
        "import string\n",
        "import numpy as np\n",
        "import seaborn as sns #for plotting\n",
        "from sklearn.feature_extraction.text import CountVectorizer\n",
        "from sklearn.feature_extraction.text import TfidfVectorizer\n",
        "from sklearn.model_selection import train_test_split\n",
        "from sklearn.linear_model import PassiveAggressiveClassifier\n",
        "from sklearn.naive_bayes import MultinomialNB\n",
        "from sklearn import metrics # for calculating accuracy\n",
        "import matplotlib.pyplot as plt\n",
        "%matplotlib inline\n",
        "pd.set_option('display.max_rows',None)"
      ]
    },
    {
      "cell_type": "code",
      "execution_count": 2,
      "metadata": {
        "id": "OSKRG6YdxGZl"
      },
      "outputs": [],
      "source": [
        "df=pd.read_csv('/content/drive/MyDrive/drugsComTrain_raw.tsv',sep='\\t')"
      ]
    },
    {
      "cell_type": "code",
      "execution_count": 3,
      "metadata": {
        "colab": {
          "base_uri": "https://localhost:8080/",
          "height": 556
        },
        "id": "s5n7l9JAxrWd",
        "outputId": "4554ed6d-30ec-4a53-bdc6-7396d0b7dc96"
      },
      "outputs": [
        {
          "data": {
            "text/html": [
              "\n",
              "  <div id=\"df-1c2e308f-9ae3-474e-bf91-dd12005c76ef\" class=\"colab-df-container\">\n",
              "    <div>\n",
              "<style scoped>\n",
              "    .dataframe tbody tr th:only-of-type {\n",
              "        vertical-align: middle;\n",
              "    }\n",
              "\n",
              "    .dataframe tbody tr th {\n",
              "        vertical-align: top;\n",
              "    }\n",
              "\n",
              "    .dataframe thead th {\n",
              "        text-align: right;\n",
              "    }\n",
              "</style>\n",
              "<table border=\"1\" class=\"dataframe\">\n",
              "  <thead>\n",
              "    <tr style=\"text-align: right;\">\n",
              "      <th></th>\n",
              "      <th>Unnamed: 0</th>\n",
              "      <th>drugName</th>\n",
              "      <th>condition</th>\n",
              "      <th>review</th>\n",
              "      <th>rating</th>\n",
              "      <th>date</th>\n",
              "      <th>usefulCount</th>\n",
              "    </tr>\n",
              "  </thead>\n",
              "  <tbody>\n",
              "    <tr>\n",
              "      <th>0</th>\n",
              "      <td>206461</td>\n",
              "      <td>Valsartan</td>\n",
              "      <td>Left Ventricular Dysfunction</td>\n",
              "      <td>\"It has no side effect, I take it in combinati...</td>\n",
              "      <td>9.0</td>\n",
              "      <td>May 20, 2012</td>\n",
              "      <td>27</td>\n",
              "    </tr>\n",
              "    <tr>\n",
              "      <th>1</th>\n",
              "      <td>95260</td>\n",
              "      <td>Guanfacine</td>\n",
              "      <td>ADHD</td>\n",
              "      <td>\"My son is halfway through his fourth week of ...</td>\n",
              "      <td>8.0</td>\n",
              "      <td>April 27, 2010</td>\n",
              "      <td>192</td>\n",
              "    </tr>\n",
              "    <tr>\n",
              "      <th>2</th>\n",
              "      <td>92703</td>\n",
              "      <td>Lybrel</td>\n",
              "      <td>Birth Control</td>\n",
              "      <td>\"I used to take another oral contraceptive, wh...</td>\n",
              "      <td>5.0</td>\n",
              "      <td>December 14, 2009</td>\n",
              "      <td>17</td>\n",
              "    </tr>\n",
              "    <tr>\n",
              "      <th>3</th>\n",
              "      <td>138000</td>\n",
              "      <td>Ortho Evra</td>\n",
              "      <td>Birth Control</td>\n",
              "      <td>\"This is my first time using any form of birth...</td>\n",
              "      <td>8.0</td>\n",
              "      <td>November 3, 2015</td>\n",
              "      <td>10</td>\n",
              "    </tr>\n",
              "    <tr>\n",
              "      <th>4</th>\n",
              "      <td>35696</td>\n",
              "      <td>Buprenorphine / naloxone</td>\n",
              "      <td>Opiate Dependence</td>\n",
              "      <td>\"Suboxone has completely turned my life around...</td>\n",
              "      <td>9.0</td>\n",
              "      <td>November 27, 2016</td>\n",
              "      <td>37</td>\n",
              "    </tr>\n",
              "  </tbody>\n",
              "</table>\n",
              "</div>\n",
              "    <div class=\"colab-df-buttons\">\n",
              "\n",
              "  <div class=\"colab-df-container\">\n",
              "    <button class=\"colab-df-convert\" onclick=\"convertToInteractive('df-1c2e308f-9ae3-474e-bf91-dd12005c76ef')\"\n",
              "            title=\"Convert this dataframe to an interactive table.\"\n",
              "            style=\"display:none;\">\n",
              "\n",
              "  <svg xmlns=\"http://www.w3.org/2000/svg\" height=\"24px\" viewBox=\"0 -960 960 960\">\n",
              "    <path d=\"M120-120v-720h720v720H120Zm60-500h600v-160H180v160Zm220 220h160v-160H400v160Zm0 220h160v-160H400v160ZM180-400h160v-160H180v160Zm440 0h160v-160H620v160ZM180-180h160v-160H180v160Zm440 0h160v-160H620v160Z\"/>\n",
              "  </svg>\n",
              "    </button>\n",
              "\n",
              "  <style>\n",
              "    .colab-df-container {\n",
              "      display:flex;\n",
              "      gap: 12px;\n",
              "    }\n",
              "\n",
              "    .colab-df-convert {\n",
              "      background-color: #E8F0FE;\n",
              "      border: none;\n",
              "      border-radius: 50%;\n",
              "      cursor: pointer;\n",
              "      display: none;\n",
              "      fill: #1967D2;\n",
              "      height: 32px;\n",
              "      padding: 0 0 0 0;\n",
              "      width: 32px;\n",
              "    }\n",
              "\n",
              "    .colab-df-convert:hover {\n",
              "      background-color: #E2EBFA;\n",
              "      box-shadow: 0px 1px 2px rgba(60, 64, 67, 0.3), 0px 1px 3px 1px rgba(60, 64, 67, 0.15);\n",
              "      fill: #174EA6;\n",
              "    }\n",
              "\n",
              "    .colab-df-buttons div {\n",
              "      margin-bottom: 4px;\n",
              "    }\n",
              "\n",
              "    [theme=dark] .colab-df-convert {\n",
              "      background-color: #3B4455;\n",
              "      fill: #D2E3FC;\n",
              "    }\n",
              "\n",
              "    [theme=dark] .colab-df-convert:hover {\n",
              "      background-color: #434B5C;\n",
              "      box-shadow: 0px 1px 3px 1px rgba(0, 0, 0, 0.15);\n",
              "      filter: drop-shadow(0px 1px 2px rgba(0, 0, 0, 0.3));\n",
              "      fill: #FFFFFF;\n",
              "    }\n",
              "  </style>\n",
              "\n",
              "    <script>\n",
              "      const buttonEl =\n",
              "        document.querySelector('#df-1c2e308f-9ae3-474e-bf91-dd12005c76ef button.colab-df-convert');\n",
              "      buttonEl.style.display =\n",
              "        google.colab.kernel.accessAllowed ? 'block' : 'none';\n",
              "\n",
              "      async function convertToInteractive(key) {\n",
              "        const element = document.querySelector('#df-1c2e308f-9ae3-474e-bf91-dd12005c76ef');\n",
              "        const dataTable =\n",
              "          await google.colab.kernel.invokeFunction('convertToInteractive',\n",
              "                                                    [key], {});\n",
              "        if (!dataTable) return;\n",
              "\n",
              "        const docLinkHtml = 'Like what you see? Visit the ' +\n",
              "          '<a target=\"_blank\" href=https://colab.research.google.com/notebooks/data_table.ipynb>data table notebook</a>'\n",
              "          + ' to learn more about interactive tables.';\n",
              "        element.innerHTML = '';\n",
              "        dataTable['output_type'] = 'display_data';\n",
              "        await google.colab.output.renderOutput(dataTable, element);\n",
              "        const docLink = document.createElement('div');\n",
              "        docLink.innerHTML = docLinkHtml;\n",
              "        element.appendChild(docLink);\n",
              "      }\n",
              "    </script>\n",
              "  </div>\n",
              "\n",
              "\n",
              "<div id=\"df-b70326e2-3813-488a-b4c3-e509c0bc42ef\">\n",
              "  <button class=\"colab-df-quickchart\" onclick=\"quickchart('df-b70326e2-3813-488a-b4c3-e509c0bc42ef')\"\n",
              "            title=\"Suggest charts.\"\n",
              "            style=\"display:none;\">\n",
              "\n",
              "<svg xmlns=\"http://www.w3.org/2000/svg\" height=\"24px\"viewBox=\"0 0 24 24\"\n",
              "     width=\"24px\">\n",
              "    <g>\n",
              "        <path d=\"M19 3H5c-1.1 0-2 .9-2 2v14c0 1.1.9 2 2 2h14c1.1 0 2-.9 2-2V5c0-1.1-.9-2-2-2zM9 17H7v-7h2v7zm4 0h-2V7h2v10zm4 0h-2v-4h2v4z\"/>\n",
              "    </g>\n",
              "</svg>\n",
              "  </button>\n",
              "\n",
              "<style>\n",
              "  .colab-df-quickchart {\n",
              "    background-color: #E8F0FE;\n",
              "    border: none;\n",
              "    border-radius: 50%;\n",
              "    cursor: pointer;\n",
              "    display: none;\n",
              "    fill: #1967D2;\n",
              "    height: 32px;\n",
              "    padding: 0 0 0 0;\n",
              "    width: 32px;\n",
              "  }\n",
              "\n",
              "  .colab-df-quickchart:hover {\n",
              "    background-color: #E2EBFA;\n",
              "    box-shadow: 0px 1px 2px rgba(60, 64, 67, 0.3), 0px 1px 3px 1px rgba(60, 64, 67, 0.15);\n",
              "    fill: #174EA6;\n",
              "  }\n",
              "\n",
              "  [theme=dark] .colab-df-quickchart {\n",
              "    background-color: #3B4455;\n",
              "    fill: #D2E3FC;\n",
              "  }\n",
              "\n",
              "  [theme=dark] .colab-df-quickchart:hover {\n",
              "    background-color: #434B5C;\n",
              "    box-shadow: 0px 1px 3px 1px rgba(0, 0, 0, 0.15);\n",
              "    filter: drop-shadow(0px 1px 2px rgba(0, 0, 0, 0.3));\n",
              "    fill: #FFFFFF;\n",
              "  }\n",
              "</style>\n",
              "\n",
              "  <script>\n",
              "    async function quickchart(key) {\n",
              "      const charts = await google.colab.kernel.invokeFunction(\n",
              "          'suggestCharts', [key], {});\n",
              "    }\n",
              "    (() => {\n",
              "      let quickchartButtonEl =\n",
              "        document.querySelector('#df-b70326e2-3813-488a-b4c3-e509c0bc42ef button');\n",
              "      quickchartButtonEl.style.display =\n",
              "        google.colab.kernel.accessAllowed ? 'block' : 'none';\n",
              "    })();\n",
              "  </script>\n",
              "</div>\n",
              "    </div>\n",
              "  </div>\n"
            ],
            "text/plain": [
              "   Unnamed: 0                  drugName                     condition  \\\n",
              "0      206461                 Valsartan  Left Ventricular Dysfunction   \n",
              "1       95260                Guanfacine                          ADHD   \n",
              "2       92703                    Lybrel                 Birth Control   \n",
              "3      138000                Ortho Evra                 Birth Control   \n",
              "4       35696  Buprenorphine / naloxone             Opiate Dependence   \n",
              "\n",
              "                                              review  rating  \\\n",
              "0  \"It has no side effect, I take it in combinati...     9.0   \n",
              "1  \"My son is halfway through his fourth week of ...     8.0   \n",
              "2  \"I used to take another oral contraceptive, wh...     5.0   \n",
              "3  \"This is my first time using any form of birth...     8.0   \n",
              "4  \"Suboxone has completely turned my life around...     9.0   \n",
              "\n",
              "                date  usefulCount  \n",
              "0       May 20, 2012           27  \n",
              "1     April 27, 2010          192  \n",
              "2  December 14, 2009           17  \n",
              "3   November 3, 2015           10  \n",
              "4  November 27, 2016           37  "
            ]
          },
          "execution_count": 3,
          "metadata": {},
          "output_type": "execute_result"
        }
      ],
      "source": [
        "df.head()"
      ]
    },
    {
      "cell_type": "code",
      "execution_count": 4,
      "metadata": {
        "colab": {
          "base_uri": "https://localhost:8080/"
        },
        "id": "wQtltOVY0wcT",
        "outputId": "a1d37e69-675e-47f1-f696-06caef227d3c"
      },
      "outputs": [
        {
          "data": {
            "text/plain": [
              "Birth Control                                                          28788\n",
              "Depression                                                              9069\n",
              "Pain                                                                    6145\n",
              "Anxiety                                                                 5904\n",
              "Acne                                                                    5588\n",
              "Bipolar Disorde                                                         4224\n",
              "Insomnia                                                                3673\n",
              "Weight Loss                                                             3609\n",
              "Obesity                                                                 3568\n",
              "ADHD                                                                    3383\n",
              "Diabetes, Type 2                                                        2554\n",
              "Emergency Contraception                                                 2463\n",
              "High Blood Pressure                                                     2321\n",
              "Vaginal Yeast Infection                                                 2274\n",
              "Abnormal Uterine Bleeding                                               2096\n",
              "Bowel Preparation                                                       1859\n",
              "ibromyalgia                                                             1791\n",
              "Smoking Cessation                                                       1780\n",
              "Migraine                                                                1694\n",
              "Anxiety and Stress                                                      1663\n",
              "Major Depressive Disorde                                                1607\n",
              "Constipation                                                            1595\n",
              "Panic Disorde                                                           1463\n",
              "Chronic Pain                                                            1455\n",
              "Migraine Prevention                                                     1413\n",
              "Urinary Tract Infection                                                 1316\n",
              "Muscle Spasm                                                            1244\n",
              "Osteoarthritis                                                          1239\n",
              "Generalized Anxiety Disorde                                             1164\n",
              "Erectile Dysfunction                                                    1086\n",
              "Opiate Dependence                                                       1079\n",
              "Irritable Bowel Syndrome                                                1014\n",
              "Rheumatoid Arthritis                                                     995\n",
              "Allergic Rhinitis                                                        973\n",
              "Bacterial Infection                                                      945\n",
              "Cough                                                                    927\n",
              "Sinusitis                                                                835\n",
              "Nausea/Vomiting                                                          747\n",
              "GERD                                                                     722\n",
              "Multiple Sclerosis                                                       698\n",
              "Overactive Bladde                                                        683\n",
              "Hyperhidrosis                                                            677\n",
              "Hepatitis C                                                              656\n",
              "Back Pain                                                                616\n",
              "HIV Infection                                                            615\n",
              "High Cholesterol                                                         611\n",
              "Psoriasis                                                                598\n",
              "Schizophrenia                                                            594\n",
              "Constipation, Chronic                                                    591\n",
              "Obsessive Compulsive Disorde                                             579\n",
              "Restless Legs Syndrome                                                   565\n",
              "Benign Prostatic Hyperplasia                                             561\n",
              "Endometriosis                                                            558\n",
              "Bronchitis                                                               550\n",
              "Bacterial Vaginitis                                                      524\n",
              "Rosacea                                                                  519\n",
              "Seizures                                                                 508\n",
              "Narcolepsy                                                               506\n",
              "Hypogonadism, Male                                                       502\n",
              "Asthma, Maintenance                                                      501\n",
              "Headache                                                                 473\n",
              "Underactive Thyroid                                                      449\n",
              "Not Listed / Othe                                                        439\n",
              "Schizoaffective Disorde                                                  396\n",
              "Onychomycosis, Toenail                                                   396\n",
              "Bladder Infection                                                        395\n",
              "Social Anxiety Disorde                                                   389\n",
              "Alcohol Dependence                                                       388\n",
              "Herpes Simplex                                                           386\n",
              "Osteoporosis                                                             372\n",
              "Cold Sores                                                               367\n",
              "Epilepsy                                                                 358\n",
              "Cough and Nasal Congestion                                               356\n",
              "Menstrual Disorders                                                      350\n",
              "Influenza                                                                350\n",
              "Plaque Psoriasis                                                         332\n",
              "Opiate Withdrawal                                                        327\n",
              "Psoriatic Arthritis                                                      324\n",
              "Post Traumatic Stress Disorde                                            314\n",
              "Postmenopausal Symptoms                                                  313\n",
              "Polycystic Ovary Syndrome                                                309\n",
              "Inflammatory Conditions                                                  303\n",
              "Premenstrual Dysphoric Disorde                                           298\n",
              "Nasal Congestion                                                         290\n",
              "Pneumonia                                                                276\n",
              "Chlamydia Infection                                                      273\n",
              "Atrial Fibrillation                                                      272\n",
              "Breast Cance                                                             272\n",
              "Urticaria                                                                264\n",
              "Helicobacter Pylori Infection                                            260\n",
              "Hot Flashes                                                              255\n",
              "Neuropathic Pain                                                         253\n",
              "Anesthesia                                                               252\n",
              "COPD, Maintenance                                                        250\n",
              "Ulcerative Colitis                                                       238\n",
              "Constipation, Drug Induced                                               228\n",
              "Skin or Soft Tissue Infection                                            225\n",
              "Asthma                                                                   225\n",
              "Alcohol Withdrawal                                                       217\n",
              "Ankylosing Spondylitis                                                   209\n",
              "Motion Sickness                                                          203\n",
              "Gout, Acute                                                              196\n",
              "Crohn's Disease, Maintenance                                             192\n",
              "mance Anxiety                                                            187\n",
              "Seizure Prevention                                                       183\n",
              "Atrophic Vaginitis                                                       182\n",
              "Allergies                                                                179\n",
              "Interstitial Cystitis                                                    178\n",
              "Peripheral Neuropathy                                                    176\n",
              "Diabetic Peripheral Neuropathy                                           175\n",
              "Hashimoto's disease                                                      173\n",
              "Upper Respiratory Tract Infection                                        171\n",
              "Crohn's Disease                                                          168\n",
              "Urinary Incontinence                                                     168\n",
              "Herpes Simplex, Suppression                                              166\n",
              "Cluster Headaches                                                        166\n",
              "Eczema                                                                   166\n",
              "Sedation                                                                 165\n",
              "Atopic Dermatitis                                                        162\n",
              "Trigeminal Neuralgia                                                     162\n",
              "Prevention of Thromboembolism in Atrial Fibrillation                     160\n",
              "COPD                                                                     159\n",
              "Ovarian Cysts                                                            152\n",
              "Otitis Media                                                             152\n",
              "Hypothyroidism, After Thyroid Removal                                    151\n",
              "Borderline Personality Disorde                                           151\n",
              "Dry Eye Disease                                                          147\n",
              "Bacterial Skin Infection                                                 146\n",
              "Diverticulitis                                                           142\n",
              "Diabetes, Type 1                                                         140\n",
              "Period Pain                                                              139\n",
              "Asthma, acute                                                            135\n",
              "Ulcerative Colitis, Active                                               132\n",
              "Sciatica                                                                 124\n",
              "Prostate Cance                                                           123\n",
              "Nausea/Vomiting of Pregnancy                                             123\n",
              "Parkinson's Disease                                                      120\n",
              "Kidney Infections                                                        117\n",
              "Cold Symptoms                                                            116\n",
              "Diarrhea                                                                 110\n",
              "Strep Throat                                                             109\n",
              "Tonsillitis/Pharyngitis                                                  106\n",
              "Keratosis                                                                106\n",
              "Gout                                                                     105\n",
              "0</span> users found this comment helpful.                               104\n",
              "Breast Cancer, Metastatic                                                102\n",
              "Dietary Supplementation                                                  102\n",
              "Human Papilloma Virus                                                    102\n",
              "Vertig                                                                   101\n",
              "Urinary Tract Stones                                                     101\n",
              "Arrhythmia                                                                97\n",
              "Renal Cell Carcinoma                                                      95\n",
              "Systemic Lupus Erythematosus                                              95\n",
              "Non-Small Cell Lung Cance                                                 94\n",
              "Neuralgia                                                                 94\n",
              "Angina                                                                    93\n",
              "Edema                                                                     93\n",
              "Dermatitis                                                                93\n",
              "Amenorrhea                                                                92\n",
              "Prostatitis                                                               91\n",
              "Autism                                                                    90\n",
              "Dental Abscess                                                            90\n",
              "Chronic Myelogenous Leukemia                                              89\n",
              "Alopecia                                                                  89\n",
              "Benign Essential Trem                                                     89\n",
              "Hemorrhoids                                                               88\n",
              "Heart Failure                                                             88\n",
              "Chronic Fatigue Syndrome                                                  88\n",
              "Muscle Pain                                                               88\n",
              "Supraventricular Tachycardia                                              86\n",
              "Sinus Symptoms                                                            86\n",
              "Deep Vein Thrombosis                                                      86\n",
              "2</span> users found this comment helpful.                                85\n",
              "Allergic Reactions                                                        85\n",
              "Alzheimer's Disease                                                       85\n",
              "Rhinitis                                                                  84\n",
              "3</span> users found this comment helpful.                                84\n",
              "Postpartum Depression                                                     84\n",
              "1</span> users found this comment helpful.                                83\n",
              "Obstructive Sleep Apnea/Hypopnea Syndrome                                 80\n",
              "Anorexia                                                                  80\n",
              "Menorrhagia                                                               80\n",
              "moterol)                                                                  79\n",
              "Nausea/Vomiting, Chemotherapy Induced                                     79\n",
              "Dry Skin                                                                  78\n",
              "Premature Lab                                                             76\n",
              "Vitamin/Mineral Supplementation during Pregnancy/Lactation                74\n",
              "Barrett's Esophagus                                                       74\n",
              "Hirsutism                                                                 74\n",
              "Dysuria                                                                   73\n",
              "Psychosis                                                                 73\n",
              "Conjunctivitis, Allergic                                                  73\n",
              "Hypertriglyceridemia                                                      73\n",
              "Melasma                                                                   72\n",
              "Stomach Ulce                                                              72\n",
              "Binge Eating Disorde                                                      72\n",
              "Postherpetic Neuralgia                                                    71\n",
              "Trichomoniasis                                                            70\n",
              "Erosive Esophagitis                                                       70\n",
              "Hypersomnia                                                               70\n",
              "Sexual Dysfunction, SSRI Induced                                          69\n",
              "Pulmonary Embolism                                                        68\n",
              "Tourette's Syndrome                                                       68\n",
              "Seasonal Allergic Conjunctivitis                                          68\n",
              "Prevention of Bladder infection                                           68\n",
              "Head Lice                                                                 67\n",
              "4</span> users found this comment helpful.                                66\n",
              "emale Infertility                                                         65\n",
              "Pulmonary Hypertension                                                    64\n",
              "Conjunctivitis, Bacterial                                                 62\n",
              "High Cholesterol, Familial Heterozygous                                   62\n",
              "Pseudotumor Cerebri                                                       62\n",
              "Chronic Idiopathic Constipation                                           60\n",
              "Shift Work Sleep Disorde                                                  60\n",
              "Light Sedation                                                            60\n",
              "Eye Redness                                                               59\n",
              "Bulimia                                                                   58\n",
              "Glaucoma, Open Angle                                                      57\n",
              "Cervical Dystonia                                                         56\n",
              "Reflex Sympathetic Dystrophy Syndrome                                     55\n",
              "Heart Attack                                                              55\n",
              "Acute Coronary Syndrome                                                   54\n",
              "Hyperprolactinemia                                                        54\n",
              "Keratoconjunctivitis Sicca                                                54\n",
              "Basal Cell Carcinoma                                                      54\n",
              "Organ Transplant, Rejection Prophylaxis                                   53\n",
              "atigue                                                                    53\n",
              "Skin and Structure Infection                                              53\n",
              "Mania                                                                     53\n",
              "Perimenopausal Symptoms                                                   50\n",
              "Sjogren's Syndrome                                                        50\n",
              "Raynaud's Syndrome                                                        50\n",
              "Uterine Fibroids                                                          49\n",
              "Indigestion                                                               48\n",
              "Androgenetic Alopecia                                                     48\n",
              "Burns, External                                                           47\n",
              "Diarrhea, Chronic                                                         47\n",
              "Crohn's Disease, Acute                                                    47\n",
              "6</span> users found this comment helpful.                                46\n",
              "Ulcerative Colitis, Maintenance                                           45\n",
              "Malaria Prevention                                                        45\n",
              "min)                                                                      45\n",
              "Opioid-Induced Constipation                                               44\n",
              "Pruritus                                                                  44\n",
              "Neutropenia Associated with Chemotherapy                                  43\n",
              "Tendonitis                                                                43\n",
              "Periodic Limb Movement Disorde                                            43\n",
              "5</span> users found this comment helpful.                                40\n",
              "Myasthenia Gravis                                                         40\n",
              "Agitated State                                                            38\n",
              "Paranoid Disorde                                                          38\n",
              "Postoperative Pain                                                        38\n",
              "Gastroenteritis                                                           38\n",
              "Dermatological Disorders                                                  38\n",
              "Gastroparesis                                                             37\n",
              "Clostridial Infection                                                     37\n",
              "7</span> users found this comment helpful.                                37\n",
              "Colorectal Cance                                                          37\n",
              "Vulvodynia                                                                35\n",
              "Lyme Disease                                                              35\n",
              "Constipation, Acute                                                       35\n",
              "Primary Immunodeficiency Syndrome                                         35\n",
              "Gouty Arthritis                                                           34\n",
              "Iron Deficiency Anemia                                                    34\n",
              "Eye Redness/Itching                                                       34\n",
              "Glaucoma                                                                  34\n",
              "Oophorectomy                                                              34\n",
              "Tinnitus                                                                  34\n",
              "ge (amlodipine / valsartan)                                               33\n",
              "Breakthrough Pain                                                         33\n",
              "Human Papillomavirus Prophylaxis                                          33\n",
              "acial Wrinkles                                                            32\n",
              "8</span> users found this comment helpful.                                31\n",
              "Condylomata Acuminata                                                     31\n",
              "COPD, Acute                                                               30\n",
              "Influenza Prophylaxis                                                     30\n",
              "Temporomandibular Joint Disorde                                           30\n",
              "Oral Thrush                                                               30\n",
              "Seborrheic Dermatitis                                                     30\n",
              "Ventricular Tachycardia                                                   30\n",
              "9</span> users found this comment helpful.                                30\n",
              "Duodenal Ulce                                                             29\n",
              "Mitral Valve Prolapse                                                     29\n",
              "Actinic Keratosis                                                         29\n",
              "moterol / mometasone)                                                     29\n",
              "10</span> users found this comment helpful.                               28\n",
              "Light Anesthesia                                                          28\n",
              "Herbal Supplementation                                                    28\n",
              "Cyclic Vomiting Syndrome                                                  28\n",
              "Dysautonomia                                                              28\n",
              "Insomnia, Stimulant-Associated                                            27\n",
              "Hiccups                                                                   27\n",
              "Photoaging of the Skin                                                    27\n",
              "Chronic Lymphocytic Leukemia                                              26\n",
              "Otitis Externa                                                            26\n",
              "Night Terrors                                                             26\n",
              "min / sitagliptin)                                                        26\n",
              "Postural Orthostatic Tachycardia Syndrome                                 26\n",
              "Juvenile Rheumatoid Arthritis                                             26\n",
              "Tinea Corporis                                                            25\n",
              "Nocturnal Leg Cramps                                                      25\n",
              "Precocious Puberty                                                        25\n",
              "Herpes Zoste                                                              25\n",
              "Extrapyramidal Reaction                                                   25\n",
              "Pharyngitis                                                               24\n",
              "Inflammatory Bowel Disease                                                24\n",
              "Postoperative Ocular Inflammation                                         24\n",
              "Labor Pain                                                                24\n",
              "Pneumococcal Disease Prophylaxis                                          24\n",
              "Vitamin/Mineral Supplementation and Deficiency                            23\n",
              "Atrophic Urethritis                                                       23\n",
              "Skin Cance                                                                22\n",
              "Bone infection                                                            22\n",
              "Allergic Urticaria                                                        22\n",
              "Ischemic Stroke, Prophylaxis                                              22\n",
              "Chronic Spasticity                                                        22\n",
              "Tinea Versicol                                                            22\n",
              "Swine Flu                                                                 21\n",
              "Hypoestrogenism                                                           21\n",
              "Insulin Resistance Syndrome                                               21\n",
              "Atrial Flutte                                                             21\n",
              "Melanoma, Metastatic                                                      21\n",
              "13</span> users found this comment helpful.                               21\n",
              "Tinea Pedis                                                               21\n",
              "Hyperphosphatemia of Renal Failure                                        21\n",
              "Lennox-Gastaut Syndrome                                                   20\n",
              "Non-Hodgkin's Lymphoma                                                    20\n",
              "Angina Pectoris Prophylaxis                                               20\n",
              "Prevention of Osteoporosis                                                20\n",
              "Meniere's Disease                                                         20\n",
              "Vitamin D Deficiency                                                      19\n",
              "Gas                                                                       19\n",
              "Diabetic Kidney Disease                                                   19\n",
              "Left Ventricular Dysfunction                                              19\n",
              "Xerostomia                                                                19\n",
              "Burning Mouth Syndrome                                                    19\n",
              "Methicillin-Resistant Staphylococcus Aureus Infection                     19\n",
              "Breast Cancer, Adjuvant                                                   19\n",
              "Malaria                                                                   19\n",
              "Diaper Rash                                                               18\n",
              "Pseudobulbar Affect                                                       18\n",
              "Lactose Intolerance                                                       18\n",
              "Progesterone Insufficiency                                                18\n",
              "Nightmares                                                                18\n",
              "Anemia                                                                    18\n",
              "Nausea/Vomiting, Postoperative                                            18\n",
              "Uveitis                                                                   18\n",
              "12</span> users found this comment helpful.                               18\n",
              "Ovarian Cance                                                             17\n",
              "Onychomycosis, Fingernail                                                 17\n",
              "Hereditary Angioedema                                                     17\n",
              "Myelodysplastic Syndrome                                                  17\n",
              "Benzodiazepine Withdrawal                                                 17\n",
              "Multiple Myeloma                                                          17\n",
              "15</span> users found this comment helpful.                               17\n",
              "Macular Degeneration                                                      17\n",
              "Juvenile Idiopathic Arthritis                                             17\n",
              "Ovulation Induction                                                       16\n",
              "Soft Tissue Sarcoma                                                       16\n",
              "Undifferentiated Connective Tissue Disease                                16\n",
              "Chronic Pancreatitis                                                      16\n",
              "Seasonal Affective Disorde                                                16\n",
              "Primary Ovarian Failure                                                   15\n",
              "Giardiasis                                                                15\n",
              "Pancreatic Cance                                                          15\n",
              "Diagnosis and Investigation                                               15\n",
              "Lyme Disease, Neurologic                                                  15\n",
              "High Cholesterol, Familial Homozygous                                     14\n",
              "Diabetes Insipidus                                                        14\n",
              "Tinea Cruris                                                              14\n",
              "Expectoration                                                             14\n",
              "Hyperlipoproteinemia                                                      14\n",
              "Streptococcal Infection                                                   14\n",
              "17</span> users found this comment helpful.                               14\n",
              "Behcet's Disease                                                          14\n",
              "16</span> users found this comment helpful.                               14\n",
              "Trichotillomania                                                          14\n",
              "14</span> users found this comment helpful.                               14\n",
              "zen Shoulde                                                               14\n",
              "Deep Vein Thrombosis, Prophylaxis                                         14\n",
              "Computed Tomography                                                       13\n",
              "New Daily Persistent Headache                                             13\n",
              "Hypertensive Emergency                                                    13\n",
              "Pain/Feve                                                                 13\n",
              "Ischemic Stroke                                                           13\n",
              "Dyspareunia                                                               13\n",
              "20</span> users found this comment helpful.                               13\n",
              "Hepatitis B                                                               13\n",
              "Lichen Sclerosus                                                          13\n",
              "Bronchiectasis                                                            13\n",
              "Surgical Prophylaxis                                                      13\n",
              "Premenstrual Syndrome                                                     12\n",
              "Cutaneous Candidiasis                                                     12\n",
              "Anal Fissure and Fistula                                                  12\n",
              "eve                                                                       12\n",
              "Intermittent Claudication                                                 12\n",
              "Hyperlipoproteinemia Type IIa, Elevated LDL                               12\n",
              "Hyperthyroidism                                                           12\n",
              "Secondary Hyperparathyroidism                                             12\n",
              "Persistent Depressive Disorde                                             12\n",
              "Intraocular Hypertension                                                  12\n",
              "Autoimmune Hepatitis                                                      12\n",
              "Asperger Syndrome                                                         12\n",
              "Conjunctivitis                                                            12\n",
              "Cystic Fibrosis                                                           12\n",
              "Skin Rash                                                                 12\n",
              "mulation) (phenylephrine)                                                 12\n",
              "Osteolytic Bone Metastases of Solid Tumors                                12\n",
              "Post-Cholecystectomy Diarrhea                                             12\n",
              "Nasal Polyps                                                              12\n",
              "18</span> users found this comment helpful.                               11\n",
              "Vitamin B12 Deficiency                                                    11\n",
              "19</span> users found this comment helpful.                               11\n",
              "Lichen Planus                                                             11\n",
              "Dystonia                                                                  11\n",
              "Polycythemia Vera                                                         11\n",
              "Opiate Adjunct                                                            11\n",
              "Prevention of Cardiovascular Disease                                      11\n",
              "Traveler's Diarrhea                                                       11\n",
              "Diarrhea, Acute                                                           11\n",
              "Scabies                                                                   11\n",
              "Addison's Disease                                                         11\n",
              "Bursitis                                                                  11\n",
              "Impetig                                                                   10\n",
              "Ulcerative Proctitis                                                      10\n",
              "Thyroid Cance                                                             10\n",
              "Tuberculosis, Latent                                                      10\n",
              "Herpes Simplex, Mucocutaneous/Immunocompetent Host                        10\n",
              "Prevention of Hypokalemia                                                 10\n",
              "min / saxagliptin)                                                        10\n",
              "Chronic Myofascial Pain                                                   10\n",
              "11</span> users found this comment helpful.                               10\n",
              "Adult Human Growth Hormone Deficiency                                     10\n",
              "Opioid Overdose                                                           10\n",
              "Pulmonary Embolism, Recurrent Event                                        9\n",
              "Deep Vein Thrombosis, First Event                                          9\n",
              "Sore Throat                                                                9\n",
              "Deep Vein Thrombosis, Recurrent Event                                      9\n",
              "Dermatomyositis                                                            9\n",
              "Prevention of Dental Caries                                                9\n",
              "Intraabdominal Infection                                                   9\n",
              "21</span> users found this comment helpful.                                9\n",
              "Body Dysmorphic Disorde                                                    9\n",
              "Costochondritis                                                            9\n",
              "Hypoparathyroidism                                                         9\n",
              "23</span> users found this comment helpful.                                9\n",
              "Pelvic Inflammatory Disease                                                9\n",
              "Local Anesthesia                                                           9\n",
              "Perioral Dermatitis                                                        9\n",
              "Spondylolisthesis                                                          9\n",
              "Menopausal Disorders                                                       9\n",
              "TSH Suppression                                                            9\n",
              "Lactation Augmentation                                                     9\n",
              "Pancreatic Exocrine Dysfunction                                            8\n",
              "Agitation                                                                  8\n",
              "B12 Nutritional Deficiency                                                 8\n",
              "Labor Induction                                                            8\n",
              "Bacterial Endocarditis Prevention                                          8\n",
              "Adrenocortical Insufficiency                                               8\n",
              "Status Epilepticus                                                         8\n",
              "Lyme Disease, Arthritis                                                    8\n",
              "Lymphoma                                                                   8\n",
              "Pediatric Growth Hormone Deficiency                                        8\n",
              "Hepatic Encephalopathy                                                     8\n",
              "Dermatologic Lesion                                                        8\n",
              "Candidemia                                                                 8\n",
              "Gastrointestinal Stromal Tum                                               8\n",
              "Nasal Carriage of Staphylococcus aureus                                    8\n",
              "Brain Tum                                                                  8\n",
              "Atherosclerosis                                                            8\n",
              "Dandruff                                                                   8\n",
              "Bronchospasm Prophylaxis                                                   8\n",
              "lic Acid Deficiency                                                        8\n",
              "Lipodystrophy                                                              7\n",
              "Immunosuppression                                                          7\n",
              "Diabetic Macular Edema                                                     7\n",
              "Head and Neck Cance                                                        7\n",
              "Bleeding Disorde                                                           7\n",
              "NSAID-Induced Gastric Ulce                                                 7\n",
              "Hypoactive Sexual Desire Disorde                                           7\n",
              "Idiopathic Thrombocytopenic Purpura                                        7\n",
              "von Willebrand's Disease                                                   7\n",
              "Ophthalmic Surgery                                                         7\n",
              "Tinea Capitis                                                              7\n",
              "Pinworm Infection (Enterobius vermicularis)                                7\n",
              "Endometrial Cance                                                          7\n",
              "Performance Anxiety                                                        7\n",
              "Abortion                                                                   7\n",
              "Wegener's Granulomatosis                                                   7\n",
              "Macular Edema                                                              7\n",
              "Mountain Sickness / Altitude Sickness                                      7\n",
              "25</span> users found this comment helpful.                                7\n",
              "Premature Ventricular Depolarizations                                      6\n",
              "Still's Disease                                                            6\n",
              "Glioblastoma Multi                                                         6\n",
              "Dietary Fiber Supplementation                                              6\n",
              "amilial Mediterranean Feve                                                 6\n",
              "Dermatophytosis                                                            6\n",
              "Hepatocellular Carcinoma                                                   6\n",
              "Herpes Zoster, Prophylaxis                                                 6\n",
              "Iritis                                                                     6\n",
              "Systemic Mastocytosis                                                      6\n",
              "Endometrial Hyperplasia                                                    6\n",
              "Cataplexy                                                                  6\n",
              "Carcinoid Tum                                                              6\n",
              "Nephrotic Syndrome                                                         6\n",
              "Gingivitis                                                                 6\n",
              "Dumping Syndrome                                                           6\n",
              "Candida Urinary Tract Infection                                            6\n",
              "Herpes Simplex, Mucocutaneous/Immunocompromised Host                       6\n",
              "NSAID-Induced Ulcer Prophylaxis                                            6\n",
              "Mucositis                                                                  6\n",
              "Anemia Associated with Chronic Renal Failure                               6\n",
              "Thrombocythemia                                                            6\n",
              "Biliary Cirrhosis                                                          6\n",
              "AIDS Related Wasting                                                       5\n",
              "Primary Hyperaldosteronism                                                 5\n",
              "Prevention of Atherothrombotic Events                                      5\n",
              "36</span> users found this comment helpful.                                5\n",
              "min / pioglitazone)                                                        5\n",
              "Gout, Prophylaxis                                                          5\n",
              "Head Injury                                                                5\n",
              "Hypercalcemia of Malignancy                                                5\n",
              "Pe                                                                         5\n",
              "Turner's Syndrome                                                          5\n",
              "Periodontitis                                                              5\n",
              "Auditory Processing Disorde                                                5\n",
              "Primary Nocturnal Enuresis                                                 5\n",
              "29</span> users found this comment helpful.                                5\n",
              "Anaplastic Oligodendroglioma                                               5\n",
              "CMV Prophylaxis                                                            5\n",
              "Varicella-Zoste                                                            5\n",
              "SIADH                                                                      5\n",
              "Mild Cognitive Impairment                                                  5\n",
              "Peripheral Arterial Disease                                                5\n",
              "Melanoma                                                                   5\n",
              "Glaucoma/Intraocular Hypertension                                          5\n",
              "Cyclothymic Disorde                                                        5\n",
              "Ventricular Fibrillation                                                   5\n",
              "Pre-Exposure Prophylaxis                                                   5\n",
              "Pulmonary Embolism, First Event                                            5\n",
              "33</span> users found this comment helpful.                                5\n",
              "Gonococcal Infection, Uncomplicated                                        5\n",
              "Glioblastoma Multiforme                                                    5\n",
              "Pupillary Dilation                                                         5\n",
              "Cance                                                                      5\n",
              "Endometrial Hyperplasia, Prophylaxis                                       5\n",
              "Sarcoidosis                                                                5\n",
              "Herpes Simplex Dendritic Keratitis                                         5\n",
              "Reiter's Syndrome                                                          5\n",
              "Cardiovascular Risk Reduction                                              5\n",
              "Spondyloarthritis                                                          5\n",
              "Transient Ischemic Attack                                                  5\n",
              "27</span> users found this comment helpful.                                5\n",
              "Leukemia                                                                   5\n",
              "mis                                                                        5\n",
              "Peptic Ulce                                                                5\n",
              "Hypokalemia                                                                5\n",
              "Ear Wax Impaction                                                          5\n",
              "41</span> users found this comment helpful.                                5\n",
              "Dementia                                                                   4\n",
              "Hypoglycemia                                                               4\n",
              "Topical Disinfection                                                       4\n",
              "43</span> users found this comment helpful.                                4\n",
              "Peripheral T-cell Lymphoma                                                 4\n",
              "Paroxysmal Supraventricular Tachycardia                                    4\n",
              "Breast Cancer, Prevention                                                  4\n",
              "Acute Lymphoblastic Leukemia                                               4\n",
              "Nephrocalcinosis                                                           4\n",
              "44</span> users found this comment helpful.                                4\n",
              "Anemia, Sickle Cell                                                        4\n",
              "Granuloma Annulare                                                         4\n",
              "Bullous Pemphigoid                                                         4\n",
              "Nausea/Vomiting, Radiation Induced                                         4\n",
              "Nonoccupational Exposure                                                   4\n",
              "Mycobacterium avium-intracellulare, Treatment                              4\n",
              "ge HCT (amlodipine / hydrochlorothiazide / valsartan)                      4\n",
              "24</span> users found this comment helpful.                                4\n",
              "Prosthetic Heart Valves, Mechanical Valves - Thrombosis Prophylaxis        4\n",
              "Infection Prophylaxis                                                      4\n",
              "Pudendal Neuralgia                                                         4\n",
              "Osteolytic Bone Lesions of Multiple Myeloma                                4\n",
              "Anesthetic Adjunct                                                         4\n",
              "Gastric Ulcer Maintenance Treatment                                        4\n",
              "cal Segmental Glomerulosclerosis                                           4\n",
              "Deep Neck Infection                                                        4\n",
              "Reversal of Opioid Sedation                                                4\n",
              "ICU Agitation                                                              4\n",
              "Ascariasis                                                                 4\n",
              "Oral and Dental Conditions                                                 4\n",
              "Porphyria                                                                  4\n",
              "Alpha-1 Proteinase Inhibitor Deficiency                                    4\n",
              "STD Prophylaxis                                                            4\n",
              "Eosinophilic Esophagitis                                                   4\n",
              "Enterocolitis                                                              4\n",
              "Noninfectious Colitis                                                      4\n",
              "Lymphocytic Colitis                                                        4\n",
              "Gastritis/Duodenitis                                                       4\n",
              "CNS Magnetic Resonance Imaging                                             4\n",
              "Hypocalcemia                                                               4\n",
              "32</span> users found this comment helpful.                                4\n",
              "Lewy Body Dementia                                                         3\n",
              "Severe Mood Dysregulation                                                  3\n",
              "Acute Promyelocytic Leukemia                                               3\n",
              "Varicose Veins                                                             3\n",
              "Cutaneous T-cell Lymphoma                                                  3\n",
              "actor IX Deficiency                                                        3\n",
              "Amebiasis                                                                  3\n",
              "Pseudomembranous Colitis                                                   3\n",
              "Aphthous Ulce                                                              3\n",
              "Hyperkalemia                                                               3\n",
              "Cerebral Spasticity                                                        3\n",
              "28</span> users found this comment helpful.                                3\n",
              "Gender Dysphoria                                                           3\n",
              "Pemphigus                                                                  3\n",
              "Endoscopy or Radiology Premedication                                       3\n",
              "Warts                                                                      3\n",
              "Hidradenitis Suppurativa                                                   3\n",
              "Squamous Cell Carcinoma                                                    3\n",
              "Histoplasmosis                                                             3\n",
              "Esophageal Variceal Hemorrhage Prophylaxis                                 3\n",
              "Rejection Prophylaxis                                                      3\n",
              "Anorexia/Feeding Problems                                                  3\n",
              "Thromboembolic Stroke Prophylaxis                                          3\n",
              "31</span> users found this comment helpful.                                3\n",
              "Peritonitis                                                                3\n",
              "Ocular Rosacea                                                             3\n",
              "Antiphospholipid Syndrome                                                  3\n",
              "Chronic Inflammatory Demyelinating Polyradiculoneuropathy                  3\n",
              "Women (oxybutynin)                                                         3\n",
              "Sunburn                                                                    3\n",
              "Stress Ulcer Prophylaxis                                                   3\n",
              "Anal Itching                                                               3\n",
              "Meningitis                                                                 3\n",
              "Ectopic Pregnancy                                                          3\n",
              "Dupuytren's contracture                                                    3\n",
              "Hyperekplexia                                                              3\n",
              "Anaplastic Astrocytoma                                                     3\n",
              "Wolff-Parkinson-White Syndrome                                             3\n",
              "Tuberculosis, Prophylaxis                                                  3\n",
              "Oligospermia                                                               3\n",
              "Neurosurgery                                                               3\n",
              "amilial Cold Autoinflammatory Syndrome                                     3\n",
              "Uterine Bleeding                                                           3\n",
              "Dientamoeba fragilis                                                       3\n",
              "Rhinorrhea                                                                 3\n",
              "Esophageal Candidiasis                                                     3\n",
              "ailure to Thrive                                                           3\n",
              "Small Bowel Bacterial Overgrowth                                           3\n",
              "Small Fiber Neuropathy                                                     3\n",
              "Autoimmune Hemolytic Anemia                                                3\n",
              "Hemophilia A                                                               3\n",
              "Aspiration Pneumonia                                                       3\n",
              "39</span> users found this comment helpful.                                3\n",
              "Anemia, Chemotherapy Induced                                               3\n",
              "Thrombocytopenia                                                           2\n",
              "99</span> users found this comment helpful.                                2\n",
              "Gonococcal Infection, Disseminated                                         2\n",
              "74</span> users found this comment helpful.                                2\n",
              "t Care                                                                     2\n",
              "Neck Pain                                                                  2\n",
              "Systemic Sclerosis                                                         2\n",
              "Testicular Cance                                                           2\n",
              "Nocardiosis                                                                2\n",
              "Hyperparathyroidism Secondary to Renal Impairment                          2\n",
              "22</span> users found this comment helpful.                                2\n",
              "Cutaneous Larva Migrans                                                    2\n",
              "Blepharitis                                                                2\n",
              "Leukocytoclastic Vasculitis                                                2\n",
              "Coronary Artery Disease                                                    2\n",
              "42</span> users found this comment helpful.                                2\n",
              "Duodenal Ulcer Prophylaxis                                                 2\n",
              "Cholera                                                                    2\n",
              "Schnitzler Syndrome                                                        2\n",
              "55</span> users found this comment helpful.                                2\n",
              "Hypotension                                                                2\n",
              "Pityriasis rubra pilaris                                                   2\n",
              "Paget's Disease                                                            2\n",
              "Gastrointestinal Decontamination                                           2\n",
              "Pertussis                                                                  2\n",
              "Avian Influenza                                                            2\n",
              "Mixed Connective Tissue Disease                                            2\n",
              "Anaphylaxis                                                                2\n",
              "Campylobacter Gastroenteritis                                              2\n",
              "Hyperphosphatemia                                                          2\n",
              "Hepatic Tum                                                                2\n",
              "Aggressive Behavi                                                          2\n",
              "Body Imaging                                                               2\n",
              "Euvolemic Hyponatremia                                                     2\n",
              "Breast Cancer, Palliative                                                  2\n",
              "Anthrax                                                                    2\n",
              "Skin Disinfection, Preoperative                                            2\n",
              "Nonalcoholic Fatty Liver Disease                                           2\n",
              "Percutaneous Coronary Intervention                                         2\n",
              "Chronic Eosinophilic Leukemia                                              2\n",
              "45</span> users found this comment helpful.                                2\n",
              "Solid Tumors                                                               2\n",
              "Malignant Glioma                                                           2\n",
              "Muscle Twitching                                                           2\n",
              "Myxedema Coma                                                              2\n",
              "85</span> users found this comment helpful.                                2\n",
              "Hypomagnesemia                                                             2\n",
              "75</span> users found this comment helpful.                                2\n",
              "Intermittent Explosive Disorde                                             2\n",
              "Schistosoma japonicum                                                      2\n",
              "Salivary Gland Cance                                                       2\n",
              "Niacin Deficiency                                                          2\n",
              "t Pac with Cyclobenzaprine (cyclobenzaprine)                               2\n",
              "Abdominal Distension                                                       2\n",
              "Deep Vein Thrombosis Prophylaxis after Hip Replacement Surgery             2\n",
              "Vitamin K Deficiency                                                       2\n",
              "Hyperlipoproteinemia Type IV, Elevated VLDL                                2\n",
              "Croup                                                                      2\n",
              "Tetanus                                                                    2\n",
              "Submental Fullness                                                         2\n",
              "35</span> users found this comment helpful.                                2\n",
              "Neurosis                                                                   2\n",
              "Peyronie's Disease                                                         2\n",
              "min / rosiglitazone)                                                       2\n",
              "Tic Disorde                                                                2\n",
              "142</span> users found this comment helpful.                               2\n",
              "Renal Transplant                                                           2\n",
              "Prosthetic Heart Valves, Tissue Valves - Thrombosis Prophylaxis            2\n",
              "Eyelash Hypotrichosis                                                      2\n",
              "Liver Magnetic Resonance Imaging                                           2\n",
              "Hairy Cell Leukemia                                                        2\n",
              "46</span> users found this comment helpful.                                2\n",
              "tic (mycophenolic acid)                                                    2\n",
              "Toothache                                                                  2\n",
              "Angioedema                                                                 2\n",
              "Typhoid Feve                                                               2\n",
              "Tardive Dyskinesia                                                         2\n",
              "Deep Vein Thrombosis Prophylaxis after Knee Replacement Surgery            2\n",
              "Mononucleosis                                                              2\n",
              "Ichthyosis                                                                 2\n",
              "Gaucher Disease                                                            2\n",
              "Delayed Puberty, Male                                                      2\n",
              "Sleep Paralysis                                                            2\n",
              "Platelet Aggregation Inhibition                                            2\n",
              "Babesiosis                                                                 2\n",
              "Pathological Hypersecretory Conditions                                     2\n",
              "Urinary Retention                                                          2\n",
              "Meningococcal Meningitis Prophylaxis                                       1\n",
              "mist (                                                                     1\n",
              "Cluster-Tic Syndrome                                                       1\n",
              "Syringomyelia                                                              1\n",
              "Gestational Diabetes                                                       1\n",
              "Aspergillosis, Aspergilloma                                                1\n",
              "Pseudogout, Prophylaxis                                                    1\n",
              "Portal Hypertension                                                        1\n",
              "Reversal of Nondepolarizing Muscle Relaxants                               1\n",
              "47</span> users found this comment helpful.                                1\n",
              "Short Stature for Age                                                      1\n",
              "Neurotic Depression                                                        1\n",
              "Cerebral Edema                                                             1\n",
              "me                                                                         1\n",
              "Hyperuricemia Secondary to Chemotherapy                                    1\n",
              "Prevention of Perinatal Group B Streptococcal Disease                      1\n",
              "Small Bowel or Pancreatic Fistula                                          1\n",
              "Pemphigoid                                                                 1\n",
              "Keratitis                                                                  1\n",
              "123</span> users found this comment helpful.                               1\n",
              "Microscopic polyangiitis                                                   1\n",
              "Secondary Cutaneous Bacterial Infections                                   1\n",
              "Hodgkin's Lymphoma                                                         1\n",
              "26</span> users found this comment helpful.                                1\n",
              "Hemophilia B                                                               1\n",
              "m Pain Disorde                                                             1\n",
              "77</span> users found this comment helpful.                                1\n",
              "Systemic Candidiasis                                                       1\n",
              "Myeloproliferative Disorders                                               1\n",
              "61</span> users found this comment helpful.                                1\n",
              "Diagnostic Bronchograms                                                    1\n",
              "Neoplastic Diseases                                                        1\n",
              "51</span> users found this comment helpful.                                1\n",
              "Mycoplasma Pneumonia                                                       1\n",
              "Linear IgA Disease                                                         1\n",
              "Subarachnoid Hemorrhage                                                    1\n",
              "ungal Pneumonia                                                            1\n",
              "Upper Limb Spasticity                                                      1\n",
              "145</span> users found this comment helpful.                               1\n",
              "Scleroderma                                                                1\n",
              "Zollinger-Ellison Syndrome                                                 1\n",
              "Tinea Barbae                                                               1\n",
              "Acute Nonlymphocytic Leukemia                                              1\n",
              "62</span> users found this comment helpful.                                1\n",
              "92</span> users found this comment helpful.                                1\n",
              "95</span> users found this comment helpful.                                1\n",
              "Cyclitis                                                                   1\n",
              "76</span> users found this comment helpful.                                1\n",
              "Strabismus                                                                 1\n",
              "Ramsay Hunt Syndrome                                                       1\n",
              "Occipital Neuralgia                                                        1\n",
              "Klinefelter Syndrome                                                       1\n",
              "Patent Ductus Arteriosus                                                   1\n",
              "Joint Infection                                                            1\n",
              "Stomach Cance                                                              1\n",
              "Manscaping Pain                                                            1\n",
              "Organ Transplant, Rejection Reversal                                       1\n",
              "Coccidioidomycosis                                                         1\n",
              "Strongyloidiasis                                                           1\n",
              "Gastric Cance                                                              1\n",
              "ibrocystic Breast Disease                                                  1\n",
              "121</span> users found this comment helpful.                               1\n",
              "ungal Infection Prophylaxis                                                1\n",
              "Short Stature                                                              1\n",
              "Hypercalcemia                                                              1\n",
              "Sporotrichosis                                                             1\n",
              "146</span> users found this comment helpful.                               1\n",
              "64</span> users found this comment helpful.                                1\n",
              "34</span> users found this comment helpful.                                1\n",
              "Ehrlichiosis                                                               1\n",
              "Hypopituitarism                                                            1\n",
              "Infectious Diarrhea                                                        1\n",
              "Hemangioma                                                                 1\n",
              "Postpartum Breast Pain                                                     1\n",
              "Multiple Endocrine Adenomas                                                1\n",
              "Postoperative Increased Intraocular Pressure                               1\n",
              "Pruritus of Partial Biliary Obstruction                                    1\n",
              "Primary Hyperaldosteronism Diagnosis                                       1\n",
              "94</span> users found this comment helpful.                                1\n",
              "Radionuclide Myocardial Perfusion Study                                    1\n",
              "54</span> users found this comment helpful.                                1\n",
              "Meningitis, Meningococcal                                                  1\n",
              "Parkinsonian Trem                                                          1\n",
              "Rabies Prophylaxis                                                         1\n",
              "Sepsis                                                                     1\n",
              "Women (minoxidil)                                                          1\n",
              "Myelofibrosis                                                              1\n",
              "Wilson's Disease                                                           1\n",
              "Transverse Myelitis                                                        1\n",
              "Parkinsonism                                                               1\n",
              "48</span> users found this comment helpful.                                1\n",
              "Thyrotoxicosis                                                             1\n",
              "Dermatitis Herpetiformis                                                   1\n",
              "30</span> users found this comment helpful.                                1\n",
              "Epididymitis, Sexually Transmitted                                         1\n",
              "Cachexia                                                                   1\n",
              "63</span> users found this comment helpful.                                1\n",
              "Hypokalemic Periodic Paralysis                                             1\n",
              "Bartonellosis                                                              1\n",
              "Thyroid Suppression Test                                                   1\n",
              "Asystole                                                                   1\n",
              "Ventricular Arrhythmia                                                     1\n",
              "AV Heart Block                                                             1\n",
              "llicular Lymphoma                                                          1\n",
              "98</span> users found this comment helpful.                                1\n",
              "Cogan's Syndrome                                                           1\n",
              "Epicondylitis, Tennis Elbow                                                1\n",
              "Dercum's Disease                                                           1\n",
              "Corneal Ulce                                                               1\n",
              "acial Lipoatrophy                                                          1\n",
              "Hypodermoclysis                                                            1\n",
              "Hepatitis B Prevention                                                     1\n",
              "Tuberculosis, Active                                                       1\n",
              "Cerebrovascular Insufficiency                                              1\n",
              "Dermatitis Herpeti                                                         1\n",
              "Anti NMDA Receptor Encephalitis                                            1\n",
              "72</span> users found this comment helpful.                                1\n",
              "Gonadotropin Inhibition                                                    1\n",
              "unctional Gastric Disorde                                                  1\n",
              "Acetaminophen Overdose                                                     1\n",
              "Paragonimus westermani, Lung Fluke                                         1\n",
              "Neuritis                                                                   1\n",
              "Hyperbilirubinemia                                                         1\n",
              "Mumps Prophylaxis                                                          1\n",
              "110</span> users found this comment helpful.                               1\n",
              "40</span> users found this comment helpful.                                1\n",
              "Amyotrophic Lateral Sclerosis                                              1\n",
              "Somatoform Pain Disorde                                                    1\n",
              "Esophageal Spasm                                                           1\n",
              "Giant Cell Tumor of Bone                                                   1\n",
              "Wound Cleansing                                                            1\n",
              "79</span> users found this comment helpful.                                1\n",
              "Gallbladder Disease                                                        1\n",
              "84</span> users found this comment helpful.                                1\n",
              "Schilling Test                                                             1\n",
              "Oppositional Defiant Disorde                                               1\n",
              "Legionella Pneumonia                                                       1\n",
              "Dissociative Identity Disorde                                              1\n",
              "Hydrocephalus                                                              1\n",
              "Hyperlipoproteinemia Type III, Elevated beta-VLDL   IDL                    1\n",
              "Q Feve                                                                     1\n",
              "Neutropenia                                                                1\n",
              "Name: condition, dtype: int64"
            ]
          },
          "execution_count": 4,
          "metadata": {},
          "output_type": "execute_result"
        }
      ],
      "source": [
        "df.condition.value_counts()"
      ]
    },
    {
      "cell_type": "code",
      "execution_count": 5,
      "metadata": {
        "id": "L7JcpYlJ1N5W"
      },
      "outputs": [],
      "source": [
        "df_train=df[(df['condition']=='Birth Control')| (df['condition']=='Depression')|(df['condition']=='High Blood Pressure')|(df['condition']=='Diabetes, Type 2')]"
      ]
    },
    {
      "cell_type": "code",
      "execution_count": 6,
      "metadata": {
        "colab": {
          "base_uri": "https://localhost:8080/"
        },
        "id": "kFI2i5KcAy4w",
        "outputId": "693484b7-ef3d-449b-e817-1194623d9711"
      },
      "outputs": [
        {
          "data": {
            "text/plain": [
              "(161297, 7)"
            ]
          },
          "execution_count": 6,
          "metadata": {},
          "output_type": "execute_result"
        }
      ],
      "source": [
        "df.shape"
      ]
    },
    {
      "cell_type": "code",
      "execution_count": 7,
      "metadata": {
        "colab": {
          "base_uri": "https://localhost:8080/"
        },
        "id": "BNVhqyABINuG",
        "outputId": "9d271aec-47cf-4384-c272-556e743ebcfb"
      },
      "outputs": [
        {
          "data": {
            "text/plain": [
              "(42732, 7)"
            ]
          },
          "execution_count": 7,
          "metadata": {},
          "output_type": "execute_result"
        }
      ],
      "source": [
        "df_train.shape"
      ]
    },
    {
      "cell_type": "code",
      "execution_count": 8,
      "metadata": {
        "id": "YsHTa_2QIwQG"
      },
      "outputs": [],
      "source": [
        " X=df_train.drop(['Unnamed: 0','drugName','rating','date','usefulCount'],axis=1)"
      ]
    },
    {
      "cell_type": "code",
      "execution_count": 9,
      "metadata": {
        "colab": {
          "base_uri": "https://localhost:8080/"
        },
        "id": "8s-BuTArJGV6",
        "outputId": "83b611fd-5137-4eef-d95b-340de8f99fc4"
      },
      "outputs": [
        {
          "data": {
            "text/plain": [
              "Birth Control          28788\n",
              "Depression              9069\n",
              "Diabetes, Type 2        2554\n",
              "High Blood Pressure     2321\n",
              "Name: condition, dtype: int64"
            ]
          },
          "execution_count": 9,
          "metadata": {},
          "output_type": "execute_result"
        }
      ],
      "source": [
        "X.condition.value_counts()"
      ]
    },
    {
      "cell_type": "code",
      "execution_count": 10,
      "metadata": {
        "colab": {
          "base_uri": "https://localhost:8080/",
          "height": 206
        },
        "id": "pcCVgzmlj216",
        "outputId": "94f12316-4b5d-4e4c-98e9-a4a46ca221fa"
      },
      "outputs": [
        {
          "data": {
            "text/html": [
              "\n",
              "  <div id=\"df-78b790f9-2ec5-4605-ba8a-9d121a89c9af\" class=\"colab-df-container\">\n",
              "    <div>\n",
              "<style scoped>\n",
              "    .dataframe tbody tr th:only-of-type {\n",
              "        vertical-align: middle;\n",
              "    }\n",
              "\n",
              "    .dataframe tbody tr th {\n",
              "        vertical-align: top;\n",
              "    }\n",
              "\n",
              "    .dataframe thead th {\n",
              "        text-align: right;\n",
              "    }\n",
              "</style>\n",
              "<table border=\"1\" class=\"dataframe\">\n",
              "  <thead>\n",
              "    <tr style=\"text-align: right;\">\n",
              "      <th></th>\n",
              "      <th>condition</th>\n",
              "      <th>review</th>\n",
              "    </tr>\n",
              "  </thead>\n",
              "  <tbody>\n",
              "    <tr>\n",
              "      <th>2</th>\n",
              "      <td>Birth Control</td>\n",
              "      <td>\"I used to take another oral contraceptive, wh...</td>\n",
              "    </tr>\n",
              "    <tr>\n",
              "      <th>3</th>\n",
              "      <td>Birth Control</td>\n",
              "      <td>\"This is my first time using any form of birth...</td>\n",
              "    </tr>\n",
              "    <tr>\n",
              "      <th>9</th>\n",
              "      <td>Birth Control</td>\n",
              "      <td>\"I had been on the pill for many years. When m...</td>\n",
              "    </tr>\n",
              "    <tr>\n",
              "      <th>11</th>\n",
              "      <td>Depression</td>\n",
              "      <td>\"I have taken anti-depressants for years, with...</td>\n",
              "    </tr>\n",
              "    <tr>\n",
              "      <th>14</th>\n",
              "      <td>Birth Control</td>\n",
              "      <td>\"Started Nexplanon 2 months ago because I have...</td>\n",
              "    </tr>\n",
              "  </tbody>\n",
              "</table>\n",
              "</div>\n",
              "    <div class=\"colab-df-buttons\">\n",
              "\n",
              "  <div class=\"colab-df-container\">\n",
              "    <button class=\"colab-df-convert\" onclick=\"convertToInteractive('df-78b790f9-2ec5-4605-ba8a-9d121a89c9af')\"\n",
              "            title=\"Convert this dataframe to an interactive table.\"\n",
              "            style=\"display:none;\">\n",
              "\n",
              "  <svg xmlns=\"http://www.w3.org/2000/svg\" height=\"24px\" viewBox=\"0 -960 960 960\">\n",
              "    <path d=\"M120-120v-720h720v720H120Zm60-500h600v-160H180v160Zm220 220h160v-160H400v160Zm0 220h160v-160H400v160ZM180-400h160v-160H180v160Zm440 0h160v-160H620v160ZM180-180h160v-160H180v160Zm440 0h160v-160H620v160Z\"/>\n",
              "  </svg>\n",
              "    </button>\n",
              "\n",
              "  <style>\n",
              "    .colab-df-container {\n",
              "      display:flex;\n",
              "      gap: 12px;\n",
              "    }\n",
              "\n",
              "    .colab-df-convert {\n",
              "      background-color: #E8F0FE;\n",
              "      border: none;\n",
              "      border-radius: 50%;\n",
              "      cursor: pointer;\n",
              "      display: none;\n",
              "      fill: #1967D2;\n",
              "      height: 32px;\n",
              "      padding: 0 0 0 0;\n",
              "      width: 32px;\n",
              "    }\n",
              "\n",
              "    .colab-df-convert:hover {\n",
              "      background-color: #E2EBFA;\n",
              "      box-shadow: 0px 1px 2px rgba(60, 64, 67, 0.3), 0px 1px 3px 1px rgba(60, 64, 67, 0.15);\n",
              "      fill: #174EA6;\n",
              "    }\n",
              "\n",
              "    .colab-df-buttons div {\n",
              "      margin-bottom: 4px;\n",
              "    }\n",
              "\n",
              "    [theme=dark] .colab-df-convert {\n",
              "      background-color: #3B4455;\n",
              "      fill: #D2E3FC;\n",
              "    }\n",
              "\n",
              "    [theme=dark] .colab-df-convert:hover {\n",
              "      background-color: #434B5C;\n",
              "      box-shadow: 0px 1px 3px 1px rgba(0, 0, 0, 0.15);\n",
              "      filter: drop-shadow(0px 1px 2px rgba(0, 0, 0, 0.3));\n",
              "      fill: #FFFFFF;\n",
              "    }\n",
              "  </style>\n",
              "\n",
              "    <script>\n",
              "      const buttonEl =\n",
              "        document.querySelector('#df-78b790f9-2ec5-4605-ba8a-9d121a89c9af button.colab-df-convert');\n",
              "      buttonEl.style.display =\n",
              "        google.colab.kernel.accessAllowed ? 'block' : 'none';\n",
              "\n",
              "      async function convertToInteractive(key) {\n",
              "        const element = document.querySelector('#df-78b790f9-2ec5-4605-ba8a-9d121a89c9af');\n",
              "        const dataTable =\n",
              "          await google.colab.kernel.invokeFunction('convertToInteractive',\n",
              "                                                    [key], {});\n",
              "        if (!dataTable) return;\n",
              "\n",
              "        const docLinkHtml = 'Like what you see? Visit the ' +\n",
              "          '<a target=\"_blank\" href=https://colab.research.google.com/notebooks/data_table.ipynb>data table notebook</a>'\n",
              "          + ' to learn more about interactive tables.';\n",
              "        element.innerHTML = '';\n",
              "        dataTable['output_type'] = 'display_data';\n",
              "        await google.colab.output.renderOutput(dataTable, element);\n",
              "        const docLink = document.createElement('div');\n",
              "        docLink.innerHTML = docLinkHtml;\n",
              "        element.appendChild(docLink);\n",
              "      }\n",
              "    </script>\n",
              "  </div>\n",
              "\n",
              "\n",
              "<div id=\"df-987dde7a-61f2-425d-b707-8e50351892ee\">\n",
              "  <button class=\"colab-df-quickchart\" onclick=\"quickchart('df-987dde7a-61f2-425d-b707-8e50351892ee')\"\n",
              "            title=\"Suggest charts.\"\n",
              "            style=\"display:none;\">\n",
              "\n",
              "<svg xmlns=\"http://www.w3.org/2000/svg\" height=\"24px\"viewBox=\"0 0 24 24\"\n",
              "     width=\"24px\">\n",
              "    <g>\n",
              "        <path d=\"M19 3H5c-1.1 0-2 .9-2 2v14c0 1.1.9 2 2 2h14c1.1 0 2-.9 2-2V5c0-1.1-.9-2-2-2zM9 17H7v-7h2v7zm4 0h-2V7h2v10zm4 0h-2v-4h2v4z\"/>\n",
              "    </g>\n",
              "</svg>\n",
              "  </button>\n",
              "\n",
              "<style>\n",
              "  .colab-df-quickchart {\n",
              "    background-color: #E8F0FE;\n",
              "    border: none;\n",
              "    border-radius: 50%;\n",
              "    cursor: pointer;\n",
              "    display: none;\n",
              "    fill: #1967D2;\n",
              "    height: 32px;\n",
              "    padding: 0 0 0 0;\n",
              "    width: 32px;\n",
              "  }\n",
              "\n",
              "  .colab-df-quickchart:hover {\n",
              "    background-color: #E2EBFA;\n",
              "    box-shadow: 0px 1px 2px rgba(60, 64, 67, 0.3), 0px 1px 3px 1px rgba(60, 64, 67, 0.15);\n",
              "    fill: #174EA6;\n",
              "  }\n",
              "\n",
              "  [theme=dark] .colab-df-quickchart {\n",
              "    background-color: #3B4455;\n",
              "    fill: #D2E3FC;\n",
              "  }\n",
              "\n",
              "  [theme=dark] .colab-df-quickchart:hover {\n",
              "    background-color: #434B5C;\n",
              "    box-shadow: 0px 1px 3px 1px rgba(0, 0, 0, 0.15);\n",
              "    filter: drop-shadow(0px 1px 2px rgba(0, 0, 0, 0.3));\n",
              "    fill: #FFFFFF;\n",
              "  }\n",
              "</style>\n",
              "\n",
              "  <script>\n",
              "    async function quickchart(key) {\n",
              "      const charts = await google.colab.kernel.invokeFunction(\n",
              "          'suggestCharts', [key], {});\n",
              "    }\n",
              "    (() => {\n",
              "      let quickchartButtonEl =\n",
              "        document.querySelector('#df-987dde7a-61f2-425d-b707-8e50351892ee button');\n",
              "      quickchartButtonEl.style.display =\n",
              "        google.colab.kernel.accessAllowed ? 'block' : 'none';\n",
              "    })();\n",
              "  </script>\n",
              "</div>\n",
              "    </div>\n",
              "  </div>\n"
            ],
            "text/plain": [
              "        condition                                             review\n",
              "2   Birth Control  \"I used to take another oral contraceptive, wh...\n",
              "3   Birth Control  \"This is my first time using any form of birth...\n",
              "9   Birth Control  \"I had been on the pill for many years. When m...\n",
              "11     Depression  \"I have taken anti-depressants for years, with...\n",
              "14  Birth Control  \"Started Nexplanon 2 months ago because I have..."
            ]
          },
          "execution_count": 10,
          "metadata": {},
          "output_type": "execute_result"
        }
      ],
      "source": [
        "\n",
        "X.head()"
      ]
    },
    {
      "cell_type": "code",
      "execution_count": 11,
      "metadata": {
        "id": "Epne0FqDkK9q"
      },
      "outputs": [],
      "source": [
        "X_birth=X[(X['condition']=='Birth Control')]\n",
        "X_dep=X[(X['condition']=='Depression')]\n",
        "X_bp=X[(X['condition']=='Hight Blood Pressure')]\n",
        "X_diab=X[(X['condition']=='Diabetes, Type 2')]\n",
        "\n",
        "# segregating dataframe for analyzing individual condition"
      ]
    },
    {
      "cell_type": "code",
      "execution_count": 12,
      "metadata": {
        "id": "ZJuNlclOrTnQ"
      },
      "outputs": [],
      "source": [
        "# from wordcloud import WordCloud # gives higher frequency of words plot\n",
        "# plt.figure(figsize=(20,20))\n",
        "# wc=WordCloud(max_words=500, width=1600,height=800).generate(\" \".join(X_birth.review))\n",
        "# plt.imshow(wc,interpolation='bilinear')\n",
        "# plt.title('Word cloud for Birth control',fontsize=14)"
      ]
    },
    {
      "cell_type": "code",
      "execution_count": 13,
      "metadata": {
        "id": "MuPz5lBSr9UE"
      },
      "outputs": [],
      "source": [
        "# from wordcloud import WordCloud # gives higher frequency of words plot\n",
        "# plt.figure(figsize=(20,20))\n",
        "# wc=WordCloud(max_words=500, width=1600,height=800).generate(\" \".join(X_dep.review))\n",
        "# plt.imshow(wc,interpolation='bilinear')\n",
        "# plt.title('Word cloud for Depression',fontsize=14)"
      ]
    },
    {
      "cell_type": "code",
      "execution_count": 14,
      "metadata": {
        "id": "WwhtY99SzEQ1"
      },
      "outputs": [],
      "source": [
        "# from wordcloud import WordCloud # gives higher frequency of words plot\n",
        "# plt.figure(figsize=(20,20))\n",
        "# wc=WordCloud(max_words=500, width=1600,height=800).generate(\" \".join(X_bp.review))\n",
        "# plt.imshow(wc,interpolation='bilinear')\n",
        "# plt.title('Word cloud for High Blood Pressure',fontsize=14)"
      ]
    },
    {
      "cell_type": "code",
      "execution_count": 15,
      "metadata": {
        "id": "cZ5YMfbU3pER"
      },
      "outputs": [],
      "source": [
        "# from wordcloud import WordCloud # gives higher frequency of words plot\n",
        "# plt.figure(figsize=(20,20))\n",
        "# wc=WordCloud(max_words=500, width=1600,height=800).generate(\" \".join(X_diab.review))\n",
        "# plt.imshow(wc,interpolation='bilinear')\n",
        "# plt.title('Word cloud for Diabetes',fontsize=14)"
      ]
    },
    {
      "cell_type": "code",
      "execution_count": 16,
      "metadata": {
        "colab": {
          "base_uri": "https://localhost:8080/",
          "height": 192
        },
        "id": "m6ouG_NM3xTl",
        "outputId": "d73514ad-5587-4d0b-c9c9-01774b542e0b"
      },
      "outputs": [
        {
          "data": {
            "application/vnd.google.colaboratory.intrinsic+json": {
              "type": "string"
            },
            "text/plain": [
              "'\"I used to take another oral contraceptive, which had 21 pill cycle, and was very happy- very light periods, max 5 days, no other side effects. But it contained hormone gestodene, which is not available in US, so I switched to Lybrel, because the ingredients are similar. When my other pills ended, I started Lybrel immediately, on my first day of period, as the instructions said. And the period lasted for two weeks. When taking the second pack- same two weeks. And now, with third pack things got even worse- my third period lasted for two weeks and now it&#039;s the end of the third week- I still have daily brown discharge.\\r\\nThe positive side is that I didn&#039;t have any other side effects. The idea of being period free was so tempting... Alas.\"'"
            ]
          },
          "execution_count": 16,
          "metadata": {},
          "output_type": "execute_result"
        }
      ],
      "source": [
        "X['review'][2]"
      ]
    },
    {
      "cell_type": "code",
      "execution_count": 17,
      "metadata": {
        "colab": {
          "base_uri": "https://localhost:8080/",
          "height": 122
        },
        "id": "U3alcpJqJEG2",
        "outputId": "cd96d6d7-54f4-46d0-d6a5-c8626ac0b715"
      },
      "outputs": [
        {
          "data": {
            "application/vnd.google.colaboratory.intrinsic+json": {
              "type": "string"
            },
            "text/plain": [
              "'\"I have taken anti-depressants for years, with some improvement but mostly moderate to severe side affects, which makes me go off them.\\r\\n\\r\\nI only take Cymbalta now mostly for pain.\\r\\n\\r\\nWhen I began Deplin, I noticed a major improvement overnight. More energy, better disposition, and no sinking to the low lows of major depression. I have been taking it for about 3 months now and feel like a normal person for the first time ever. Best thing, no side effects.\"'"
            ]
          },
          "execution_count": 17,
          "metadata": {},
          "output_type": "execute_result"
        }
      ],
      "source": [
        "X['review'][11]"
      ]
    },
    {
      "cell_type": "code",
      "execution_count": 18,
      "metadata": {
        "id": "aSi0F3abJXfX"
      },
      "outputs": [],
      "source": [
        "# removing double quotes\n",
        "for i,col in enumerate (X.columns):\n",
        "  X.iloc[:,i]=X.iloc[:,i].str.replace('\"','')\n",
        "\n",
        "\n"
      ]
    },
    {
      "cell_type": "code",
      "execution_count": 19,
      "metadata": {
        "colab": {
          "base_uri": "https://localhost:8080/",
          "height": 122
        },
        "id": "jvahdMONKHMu",
        "outputId": "032274b4-aa81-44d0-fed0-a7621fa0b410"
      },
      "outputs": [
        {
          "data": {
            "application/vnd.google.colaboratory.intrinsic+json": {
              "type": "string"
            },
            "text/plain": [
              "'I have taken anti-depressants for years, with some improvement but mostly moderate to severe side affects, which makes me go off them.\\r\\n\\r\\nI only take Cymbalta now mostly for pain.\\r\\n\\r\\nWhen I began Deplin, I noticed a major improvement overnight. More energy, better disposition, and no sinking to the low lows of major depression. I have been taking it for about 3 months now and feel like a normal person for the first time ever. Best thing, no side effects.'"
            ]
          },
          "execution_count": 19,
          "metadata": {},
          "output_type": "execute_result"
        }
      ],
      "source": [
        "X['review'][11]"
      ]
    },
    {
      "cell_type": "code",
      "execution_count": 20,
      "metadata": {
        "colab": {
          "base_uri": "https://localhost:8080/"
        },
        "id": "EFClx2V7KKYB",
        "outputId": "41070f95-5690-491a-f2eb-ba83d9dd533e"
      },
      "outputs": [
        {
          "name": "stderr",
          "output_type": "stream",
          "text": [
            "<ipython-input-20-6119f0fe5f8d>:1: FutureWarning: Passing a negative integer is deprecated in version 1.0 and will not be supported in future version. Instead, use None to not limit the column width.\n",
            "  pd.set_option('max_colwidth',-1)\n"
          ]
        }
      ],
      "source": [
        "pd.set_option('max_colwidth',-1)"
      ]
    },
    {
      "cell_type": "code",
      "execution_count": 21,
      "metadata": {
        "colab": {
          "base_uri": "https://localhost:8080/"
        },
        "id": "QZI26gHyKjkh",
        "outputId": "a964428a-bd4c-4cb1-a159-bdad89de5554"
      },
      "outputs": [
        {
          "name": "stderr",
          "output_type": "stream",
          "text": [
            "[nltk_data] Downloading package stopwords to /root/nltk_data...\n",
            "[nltk_data]   Unzipping corpora/stopwords.zip.\n"
          ]
        }
      ],
      "source": [
        "# downloadinf stopwords to remove them from input text\n",
        "\n",
        "import nltk\n",
        "from nltk.corpus import stopwords\n",
        "nltk.download('stopwords')\n",
        "stop=stopwords.words('english')"
      ]
    },
    {
      "cell_type": "code",
      "execution_count": 22,
      "metadata": {
        "colab": {
          "base_uri": "https://localhost:8080/"
        },
        "id": "j_UvfzqkLbpp",
        "outputId": "1ba1ba00-caef-451f-c94f-630b6bbddee1"
      },
      "outputs": [
        {
          "data": {
            "text/plain": [
              "['i',\n",
              " 'me',\n",
              " 'my',\n",
              " 'myself',\n",
              " 'we',\n",
              " 'our',\n",
              " 'ours',\n",
              " 'ourselves',\n",
              " 'you',\n",
              " \"you're\",\n",
              " \"you've\",\n",
              " \"you'll\",\n",
              " \"you'd\",\n",
              " 'your',\n",
              " 'yours',\n",
              " 'yourself',\n",
              " 'yourselves',\n",
              " 'he',\n",
              " 'him',\n",
              " 'his',\n",
              " 'himself',\n",
              " 'she',\n",
              " \"she's\",\n",
              " 'her',\n",
              " 'hers',\n",
              " 'herself',\n",
              " 'it',\n",
              " \"it's\",\n",
              " 'its',\n",
              " 'itself',\n",
              " 'they',\n",
              " 'them',\n",
              " 'their',\n",
              " 'theirs',\n",
              " 'themselves',\n",
              " 'what',\n",
              " 'which',\n",
              " 'who',\n",
              " 'whom',\n",
              " 'this',\n",
              " 'that',\n",
              " \"that'll\",\n",
              " 'these',\n",
              " 'those',\n",
              " 'am',\n",
              " 'is',\n",
              " 'are',\n",
              " 'was',\n",
              " 'were',\n",
              " 'be',\n",
              " 'been',\n",
              " 'being',\n",
              " 'have',\n",
              " 'has',\n",
              " 'had',\n",
              " 'having',\n",
              " 'do',\n",
              " 'does',\n",
              " 'did',\n",
              " 'doing',\n",
              " 'a',\n",
              " 'an',\n",
              " 'the',\n",
              " 'and',\n",
              " 'but',\n",
              " 'if',\n",
              " 'or',\n",
              " 'because',\n",
              " 'as',\n",
              " 'until',\n",
              " 'while',\n",
              " 'of',\n",
              " 'at',\n",
              " 'by',\n",
              " 'for',\n",
              " 'with',\n",
              " 'about',\n",
              " 'against',\n",
              " 'between',\n",
              " 'into',\n",
              " 'through',\n",
              " 'during',\n",
              " 'before',\n",
              " 'after',\n",
              " 'above',\n",
              " 'below',\n",
              " 'to',\n",
              " 'from',\n",
              " 'up',\n",
              " 'down',\n",
              " 'in',\n",
              " 'out',\n",
              " 'on',\n",
              " 'off',\n",
              " 'over',\n",
              " 'under',\n",
              " 'again',\n",
              " 'further',\n",
              " 'then',\n",
              " 'once',\n",
              " 'here',\n",
              " 'there',\n",
              " 'when',\n",
              " 'where',\n",
              " 'why',\n",
              " 'how',\n",
              " 'all',\n",
              " 'any',\n",
              " 'both',\n",
              " 'each',\n",
              " 'few',\n",
              " 'more',\n",
              " 'most',\n",
              " 'other',\n",
              " 'some',\n",
              " 'such',\n",
              " 'no',\n",
              " 'nor',\n",
              " 'not',\n",
              " 'only',\n",
              " 'own',\n",
              " 'same',\n",
              " 'so',\n",
              " 'than',\n",
              " 'too',\n",
              " 'very',\n",
              " 's',\n",
              " 't',\n",
              " 'can',\n",
              " 'will',\n",
              " 'just',\n",
              " 'don',\n",
              " \"don't\",\n",
              " 'should',\n",
              " \"should've\",\n",
              " 'now',\n",
              " 'd',\n",
              " 'll',\n",
              " 'm',\n",
              " 'o',\n",
              " 're',\n",
              " 've',\n",
              " 'y',\n",
              " 'ain',\n",
              " 'aren',\n",
              " \"aren't\",\n",
              " 'couldn',\n",
              " \"couldn't\",\n",
              " 'didn',\n",
              " \"didn't\",\n",
              " 'doesn',\n",
              " \"doesn't\",\n",
              " 'hadn',\n",
              " \"hadn't\",\n",
              " 'hasn',\n",
              " \"hasn't\",\n",
              " 'haven',\n",
              " \"haven't\",\n",
              " 'isn',\n",
              " \"isn't\",\n",
              " 'ma',\n",
              " 'mightn',\n",
              " \"mightn't\",\n",
              " 'mustn',\n",
              " \"mustn't\",\n",
              " 'needn',\n",
              " \"needn't\",\n",
              " 'shan',\n",
              " \"shan't\",\n",
              " 'shouldn',\n",
              " \"shouldn't\",\n",
              " 'wasn',\n",
              " \"wasn't\",\n",
              " 'weren',\n",
              " \"weren't\",\n",
              " 'won',\n",
              " \"won't\",\n",
              " 'wouldn',\n",
              " \"wouldn't\"]"
            ]
          },
          "execution_count": 22,
          "metadata": {},
          "output_type": "execute_result"
        }
      ],
      "source": [
        "stop"
      ]
    },
    {
      "cell_type": "code",
      "execution_count": 23,
      "metadata": {
        "colab": {
          "base_uri": "https://localhost:8080/"
        },
        "id": "91FZsLHZMFxP",
        "outputId": "a6cbe716-fe0b-479d-9eb2-20ee6a98a54d"
      },
      "outputs": [
        {
          "name": "stderr",
          "output_type": "stream",
          "text": [
            "[nltk_data] Downloading package punkt to /root/nltk_data...\n",
            "[nltk_data]   Unzipping tokenizers/punkt.zip.\n",
            "[nltk_data] Downloading package wordnet to /root/nltk_data...\n"
          ]
        }
      ],
      "source": [
        "#Lemmitization and stemming\n",
        "\n",
        "from nltk.stem import WordNetLemmatizer\n",
        "from nltk.stem import PorterStemmer\n",
        "\n",
        "\n",
        "nltk.download('punkt')\n",
        "nltk.download('wordnet')\n",
        "\n",
        "porter=PorterStemmer()\n",
        "lemmatizer=WordNetLemmatizer()\n",
        "\n"
      ]
    },
    {
      "cell_type": "code",
      "execution_count": 24,
      "metadata": {
        "id": "Tp0uQ0KLPi6d"
      },
      "outputs": [],
      "source": [
        "# lemmatizing the data\n",
        "from bs4 import BeautifulSoup\n",
        "import re\n"
      ]
    },
    {
      "cell_type": "code",
      "execution_count": 25,
      "metadata": {
        "id": "9Cq0L4YKQdRt"
      },
      "outputs": [],
      "source": [
        "def review_to_words(raw):\n",
        "  #Delete html\n",
        "  review_text=BeautifulSoup(raw,'html.parser').get_text()\n",
        "  # Make a space (remove all other than letters)\n",
        "  letters_only=re.sub('[^a-zA-Z]', ' ',review_text)\n",
        "  # Lower letters\n",
        "  words=letters_only.lower().split()\n",
        "  # remove stopwords\n",
        "  meaningful_words=[w for w in words if not w in stop]\n",
        "  #lemmatization\n",
        "  lemmetize_words=[lemmatizer.lemmatize(w) for w in meaningful_words]\n",
        "  return(' '.join(lemmetize_words))"
      ]
    },
    {
      "cell_type": "code",
      "execution_count": 26,
      "metadata": {
        "colab": {
          "base_uri": "https://localhost:8080/"
        },
        "id": "xhaBcSNrSMOi",
        "outputId": "9025c675-f5e4-46dd-bcf3-4238ee098f7e"
      },
      "outputs": [
        {
          "name": "stderr",
          "output_type": "stream",
          "text": [
            "<ipython-input-25-e8ddeefe6ca5>:3: MarkupResemblesLocatorWarning: The input looks more like a filename than markup. You may want to open this file and pass the filehandle into Beautiful Soup.\n",
            "  review_text=BeautifulSoup(raw,'html.parser').get_text()\n"
          ]
        }
      ],
      "source": [
        "X['review_clean']=X['review'].apply(review_to_words)"
      ]
    },
    {
      "cell_type": "code",
      "execution_count": 27,
      "metadata": {
        "colab": {
          "base_uri": "https://localhost:8080/",
          "height": 1000
        },
        "id": "gdQH526sSZ0c",
        "outputId": "01796b00-7afd-4854-ab96-8f37d0c6792b"
      },
      "outputs": [
        {
          "data": {
            "text/html": [
              "\n",
              "  <div id=\"df-7bd8fbf9-651b-456d-9d93-af2747b5a4b4\" class=\"colab-df-container\">\n",
              "    <div>\n",
              "<style scoped>\n",
              "    .dataframe tbody tr th:only-of-type {\n",
              "        vertical-align: middle;\n",
              "    }\n",
              "\n",
              "    .dataframe tbody tr th {\n",
              "        vertical-align: top;\n",
              "    }\n",
              "\n",
              "    .dataframe thead th {\n",
              "        text-align: right;\n",
              "    }\n",
              "</style>\n",
              "<table border=\"1\" class=\"dataframe\">\n",
              "  <thead>\n",
              "    <tr style=\"text-align: right;\">\n",
              "      <th></th>\n",
              "      <th>condition</th>\n",
              "      <th>review</th>\n",
              "      <th>review_clean</th>\n",
              "    </tr>\n",
              "  </thead>\n",
              "  <tbody>\n",
              "    <tr>\n",
              "      <th>2</th>\n",
              "      <td>Birth Control</td>\n",
              "      <td>I used to take another oral contraceptive, which had 21 pill cycle, and was very happy- very light periods, max 5 days, no other side effects. But it contained hormone gestodene, which is not available in US, so I switched to Lybrel, because the ingredients are similar. When my other pills ended, I started Lybrel immediately, on my first day of period, as the instructions said. And the period lasted for two weeks. When taking the second pack- same two weeks. And now, with third pack things got even worse- my third period lasted for two weeks and now it&amp;#039;s the end of the third week- I still have daily brown discharge.\\r\\nThe positive side is that I didn&amp;#039;t have any other side effects. The idea of being period free was so tempting... Alas.</td>\n",
              "      <td>used take another oral contraceptive pill cycle happy light period max day side effect contained hormone gestodene available u switched lybrel ingredient similar pill ended started lybrel immediately first day period instruction said period lasted two week taking second pack two week third pack thing got even worse third period lasted two week end third week still daily brown discharge positive side side effect idea period free tempting ala</td>\n",
              "    </tr>\n",
              "    <tr>\n",
              "      <th>3</th>\n",
              "      <td>Birth Control</td>\n",
              "      <td>This is my first time using any form of birth control. I&amp;#039;m glad I went with the patch, I have been on it for 8 months. At first It decreased my libido but that subsided. The only downside is that it made my periods longer (5-6 days to be exact) I used to only have periods for 3-4 days max also made my cramps intense for the first two days of my period, I never had cramps before using birth control. Other than that in happy with the patch</td>\n",
              "      <td>first time using form birth control glad went patch month first decreased libido subsided downside made period longer day exact used period day max also made cramp intense first two day period never cramp using birth control happy patch</td>\n",
              "    </tr>\n",
              "    <tr>\n",
              "      <th>9</th>\n",
              "      <td>Birth Control</td>\n",
              "      <td>I had been on the pill for many years. When my doctor changed my RX to chateal, it was as effective. It really did help me by completely clearing my acne, this takes about 6 months though. I did not gain extra weight, or develop any emotional health issues. I stopped taking it bc I started using a more natural method of birth control, but started to take it bc I hate that my acne came back at age 28. I really hope symptoms like depression, or weight gain do not begin to affect me as I am older now. I&amp;#039;m also naturally moody, so this may worsen things. I was in a negative mental rut today. Also I hope this doesn&amp;#039;t push me over the edge, as I believe I am depressed. Hopefully it&amp;#039;ll be just like when I was younger.</td>\n",
              "      <td>pill many year doctor changed rx chateal effective really help completely clearing acne take month though gain extra weight develop emotional health issue stopped taking bc started using natural method birth control started take bc hate acne came back age really hope symptom like depression weight gain begin affect older also naturally moody may worsen thing negative mental rut today also hope push edge believe depressed hopefully like younger</td>\n",
              "    </tr>\n",
              "    <tr>\n",
              "      <th>11</th>\n",
              "      <td>Depression</td>\n",
              "      <td>I have taken anti-depressants for years, with some improvement but mostly moderate to severe side affects, which makes me go off them.\\r\\n\\r\\nI only take Cymbalta now mostly for pain.\\r\\n\\r\\nWhen I began Deplin, I noticed a major improvement overnight. More energy, better disposition, and no sinking to the low lows of major depression. I have been taking it for about 3 months now and feel like a normal person for the first time ever. Best thing, no side effects.</td>\n",
              "      <td>taken anti depressant year improvement mostly moderate severe side affect make go take cymbalta mostly pain began deplin noticed major improvement overnight energy better disposition sinking low low major depression taking month feel like normal person first time ever best thing side effect</td>\n",
              "    </tr>\n",
              "    <tr>\n",
              "      <th>14</th>\n",
              "      <td>Birth Control</td>\n",
              "      <td>Started Nexplanon 2 months ago because I have a minimal amount of contraception&amp;#039;s I can take due to my inability to take the hormone that is used in most birth controls. I&amp;#039;m trying to give it time because it is one of my only options right now. But honestly if I had options I&amp;#039;d get it removed.\\r\\nI&amp;#039;ve never had acne problems in my life, and immediately broke out after getting it implanted. Sex drive is completely gone, and I used to have sex with my boyfriend a few days a week, now its completely forced and not even fun for me anymore. I mean I&amp;#039;m on birth control because I like having sex but don&amp;#039;t want to get pregnant, why take a birth control that takes away sex? Very unhappy and hope that I get it back with time or I&amp;#039;m getting it removed.</td>\n",
              "      <td>started nexplanon month ago minimal amount contraception take due inability take hormone used birth control trying give time one option right honestly option get removed never acne problem life immediately broke getting implanted sex drive completely gone used sex boyfriend day week completely forced even fun anymore mean birth control like sex want get pregnant take birth control take away sex unhappy hope get back time getting removed</td>\n",
              "    </tr>\n",
              "  </tbody>\n",
              "</table>\n",
              "</div>\n",
              "    <div class=\"colab-df-buttons\">\n",
              "\n",
              "  <div class=\"colab-df-container\">\n",
              "    <button class=\"colab-df-convert\" onclick=\"convertToInteractive('df-7bd8fbf9-651b-456d-9d93-af2747b5a4b4')\"\n",
              "            title=\"Convert this dataframe to an interactive table.\"\n",
              "            style=\"display:none;\">\n",
              "\n",
              "  <svg xmlns=\"http://www.w3.org/2000/svg\" height=\"24px\" viewBox=\"0 -960 960 960\">\n",
              "    <path d=\"M120-120v-720h720v720H120Zm60-500h600v-160H180v160Zm220 220h160v-160H400v160Zm0 220h160v-160H400v160ZM180-400h160v-160H180v160Zm440 0h160v-160H620v160ZM180-180h160v-160H180v160Zm440 0h160v-160H620v160Z\"/>\n",
              "  </svg>\n",
              "    </button>\n",
              "\n",
              "  <style>\n",
              "    .colab-df-container {\n",
              "      display:flex;\n",
              "      gap: 12px;\n",
              "    }\n",
              "\n",
              "    .colab-df-convert {\n",
              "      background-color: #E8F0FE;\n",
              "      border: none;\n",
              "      border-radius: 50%;\n",
              "      cursor: pointer;\n",
              "      display: none;\n",
              "      fill: #1967D2;\n",
              "      height: 32px;\n",
              "      padding: 0 0 0 0;\n",
              "      width: 32px;\n",
              "    }\n",
              "\n",
              "    .colab-df-convert:hover {\n",
              "      background-color: #E2EBFA;\n",
              "      box-shadow: 0px 1px 2px rgba(60, 64, 67, 0.3), 0px 1px 3px 1px rgba(60, 64, 67, 0.15);\n",
              "      fill: #174EA6;\n",
              "    }\n",
              "\n",
              "    .colab-df-buttons div {\n",
              "      margin-bottom: 4px;\n",
              "    }\n",
              "\n",
              "    [theme=dark] .colab-df-convert {\n",
              "      background-color: #3B4455;\n",
              "      fill: #D2E3FC;\n",
              "    }\n",
              "\n",
              "    [theme=dark] .colab-df-convert:hover {\n",
              "      background-color: #434B5C;\n",
              "      box-shadow: 0px 1px 3px 1px rgba(0, 0, 0, 0.15);\n",
              "      filter: drop-shadow(0px 1px 2px rgba(0, 0, 0, 0.3));\n",
              "      fill: #FFFFFF;\n",
              "    }\n",
              "  </style>\n",
              "\n",
              "    <script>\n",
              "      const buttonEl =\n",
              "        document.querySelector('#df-7bd8fbf9-651b-456d-9d93-af2747b5a4b4 button.colab-df-convert');\n",
              "      buttonEl.style.display =\n",
              "        google.colab.kernel.accessAllowed ? 'block' : 'none';\n",
              "\n",
              "      async function convertToInteractive(key) {\n",
              "        const element = document.querySelector('#df-7bd8fbf9-651b-456d-9d93-af2747b5a4b4');\n",
              "        const dataTable =\n",
              "          await google.colab.kernel.invokeFunction('convertToInteractive',\n",
              "                                                    [key], {});\n",
              "        if (!dataTable) return;\n",
              "\n",
              "        const docLinkHtml = 'Like what you see? Visit the ' +\n",
              "          '<a target=\"_blank\" href=https://colab.research.google.com/notebooks/data_table.ipynb>data table notebook</a>'\n",
              "          + ' to learn more about interactive tables.';\n",
              "        element.innerHTML = '';\n",
              "        dataTable['output_type'] = 'display_data';\n",
              "        await google.colab.output.renderOutput(dataTable, element);\n",
              "        const docLink = document.createElement('div');\n",
              "        docLink.innerHTML = docLinkHtml;\n",
              "        element.appendChild(docLink);\n",
              "      }\n",
              "    </script>\n",
              "  </div>\n",
              "\n",
              "\n",
              "<div id=\"df-fb8dc3ab-345a-43ab-b46f-110e193b1c38\">\n",
              "  <button class=\"colab-df-quickchart\" onclick=\"quickchart('df-fb8dc3ab-345a-43ab-b46f-110e193b1c38')\"\n",
              "            title=\"Suggest charts.\"\n",
              "            style=\"display:none;\">\n",
              "\n",
              "<svg xmlns=\"http://www.w3.org/2000/svg\" height=\"24px\"viewBox=\"0 0 24 24\"\n",
              "     width=\"24px\">\n",
              "    <g>\n",
              "        <path d=\"M19 3H5c-1.1 0-2 .9-2 2v14c0 1.1.9 2 2 2h14c1.1 0 2-.9 2-2V5c0-1.1-.9-2-2-2zM9 17H7v-7h2v7zm4 0h-2V7h2v10zm4 0h-2v-4h2v4z\"/>\n",
              "    </g>\n",
              "</svg>\n",
              "  </button>\n",
              "\n",
              "<style>\n",
              "  .colab-df-quickchart {\n",
              "    background-color: #E8F0FE;\n",
              "    border: none;\n",
              "    border-radius: 50%;\n",
              "    cursor: pointer;\n",
              "    display: none;\n",
              "    fill: #1967D2;\n",
              "    height: 32px;\n",
              "    padding: 0 0 0 0;\n",
              "    width: 32px;\n",
              "  }\n",
              "\n",
              "  .colab-df-quickchart:hover {\n",
              "    background-color: #E2EBFA;\n",
              "    box-shadow: 0px 1px 2px rgba(60, 64, 67, 0.3), 0px 1px 3px 1px rgba(60, 64, 67, 0.15);\n",
              "    fill: #174EA6;\n",
              "  }\n",
              "\n",
              "  [theme=dark] .colab-df-quickchart {\n",
              "    background-color: #3B4455;\n",
              "    fill: #D2E3FC;\n",
              "  }\n",
              "\n",
              "  [theme=dark] .colab-df-quickchart:hover {\n",
              "    background-color: #434B5C;\n",
              "    box-shadow: 0px 1px 3px 1px rgba(0, 0, 0, 0.15);\n",
              "    filter: drop-shadow(0px 1px 2px rgba(0, 0, 0, 0.3));\n",
              "    fill: #FFFFFF;\n",
              "  }\n",
              "</style>\n",
              "\n",
              "  <script>\n",
              "    async function quickchart(key) {\n",
              "      const charts = await google.colab.kernel.invokeFunction(\n",
              "          'suggestCharts', [key], {});\n",
              "    }\n",
              "    (() => {\n",
              "      let quickchartButtonEl =\n",
              "        document.querySelector('#df-fb8dc3ab-345a-43ab-b46f-110e193b1c38 button');\n",
              "      quickchartButtonEl.style.display =\n",
              "        google.colab.kernel.accessAllowed ? 'block' : 'none';\n",
              "    })();\n",
              "  </script>\n",
              "</div>\n",
              "    </div>\n",
              "  </div>\n"
            ],
            "text/plain": [
              "        condition  \\\n",
              "2   Birth Control   \n",
              "3   Birth Control   \n",
              "9   Birth Control   \n",
              "11  Depression      \n",
              "14  Birth Control   \n",
              "\n",
              "                                                                                                                                                                                                                                                                                                                                                                                                                                                                                                                                                                                                                                                                                                                                                                                                                review  \\\n",
              "2   I used to take another oral contraceptive, which had 21 pill cycle, and was very happy- very light periods, max 5 days, no other side effects. But it contained hormone gestodene, which is not available in US, so I switched to Lybrel, because the ingredients are similar. When my other pills ended, I started Lybrel immediately, on my first day of period, as the instructions said. And the period lasted for two weeks. When taking the second pack- same two weeks. And now, with third pack things got even worse- my third period lasted for two weeks and now it&#039;s the end of the third week- I still have daily brown discharge.\\r\\nThe positive side is that I didn&#039;t have any other side effects. The idea of being period free was so tempting... Alas.                                  \n",
              "3   This is my first time using any form of birth control. I&#039;m glad I went with the patch, I have been on it for 8 months. At first It decreased my libido but that subsided. The only downside is that it made my periods longer (5-6 days to be exact) I used to only have periods for 3-4 days max also made my cramps intense for the first two days of my period, I never had cramps before using birth control. Other than that in happy with the patch                                                                                                                                                                                                                                                                                                                                                       \n",
              "9   I had been on the pill for many years. When my doctor changed my RX to chateal, it was as effective. It really did help me by completely clearing my acne, this takes about 6 months though. I did not gain extra weight, or develop any emotional health issues. I stopped taking it bc I started using a more natural method of birth control, but started to take it bc I hate that my acne came back at age 28. I really hope symptoms like depression, or weight gain do not begin to affect me as I am older now. I&#039;m also naturally moody, so this may worsen things. I was in a negative mental rut today. Also I hope this doesn&#039;t push me over the edge, as I believe I am depressed. Hopefully it&#039;ll be just like when I was younger.                                                      \n",
              "11  I have taken anti-depressants for years, with some improvement but mostly moderate to severe side affects, which makes me go off them.\\r\\n\\r\\nI only take Cymbalta now mostly for pain.\\r\\n\\r\\nWhen I began Deplin, I noticed a major improvement overnight. More energy, better disposition, and no sinking to the low lows of major depression. I have been taking it for about 3 months now and feel like a normal person for the first time ever. Best thing, no side effects.                                                                                                                                                                                                                                                                                                                                   \n",
              "14  Started Nexplanon 2 months ago because I have a minimal amount of contraception&#039;s I can take due to my inability to take the hormone that is used in most birth controls. I&#039;m trying to give it time because it is one of my only options right now. But honestly if I had options I&#039;d get it removed.\\r\\nI&#039;ve never had acne problems in my life, and immediately broke out after getting it implanted. Sex drive is completely gone, and I used to have sex with my boyfriend a few days a week, now its completely forced and not even fun for me anymore. I mean I&#039;m on birth control because I like having sex but don&#039;t want to get pregnant, why take a birth control that takes away sex? Very unhappy and hope that I get it back with time or I&#039;m getting it removed.   \n",
              "\n",
              "                                                                                                                                                                                                                                                                                                                                                                                                                                                       review_clean  \n",
              "2   used take another oral contraceptive pill cycle happy light period max day side effect contained hormone gestodene available u switched lybrel ingredient similar pill ended started lybrel immediately first day period instruction said period lasted two week taking second pack two week third pack thing got even worse third period lasted two week end third week still daily brown discharge positive side side effect idea period free tempting ala     \n",
              "3   first time using form birth control glad went patch month first decreased libido subsided downside made period longer day exact used period day max also made cramp intense first two day period never cramp using birth control happy patch                                                                                                                                                                                                                     \n",
              "9   pill many year doctor changed rx chateal effective really help completely clearing acne take month though gain extra weight develop emotional health issue stopped taking bc started using natural method birth control started take bc hate acne came back age really hope symptom like depression weight gain begin affect older also naturally moody may worsen thing negative mental rut today also hope push edge believe depressed hopefully like younger  \n",
              "11  taken anti depressant year improvement mostly moderate severe side affect make go take cymbalta mostly pain began deplin noticed major improvement overnight energy better disposition sinking low low major depression taking month feel like normal person first time ever best thing side effect                                                                                                                                                              \n",
              "14  started nexplanon month ago minimal amount contraception take due inability take hormone used birth control trying give time one option right honestly option get removed never acne problem life immediately broke getting implanted sex drive completely gone used sex boyfriend day week completely forced even fun anymore mean birth control like sex want get pregnant take birth control take away sex unhappy hope get back time getting removed         "
            ]
          },
          "execution_count": 27,
          "metadata": {},
          "output_type": "execute_result"
        }
      ],
      "source": [
        "X.head()"
      ]
    },
    {
      "cell_type": "code",
      "execution_count": 28,
      "metadata": {
        "id": "ce3o4h47SzSh"
      },
      "outputs": [],
      "source": [
        " # train and test splitting\n",
        " # Craeting features and traget variables\n",
        " X_features=X['review_clean']\n",
        " y=X['condition']\n",
        "\n"
      ]
    },
    {
      "cell_type": "code",
      "execution_count": 29,
      "metadata": {
        "id": "pRo-PSdfcT01"
      },
      "outputs": [],
      "source": [
        "from sklearn.model_selection import train_test_split"
      ]
    },
    {
      "cell_type": "code",
      "execution_count": 30,
      "metadata": {
        "id": "0U1K3aRHbl8x"
      },
      "outputs": [],
      "source": [
        "# splitting into training and testing in ration of 80:20. And also doing stratification so that the prop of all the categories is maintained in both tainoing and test set\n",
        "X_train, X_test, y_train,y_test= train_test_split(X_features,y,stratify=y,test_size=0.2,random_state=0)"
      ]
    },
    {
      "cell_type": "code",
      "execution_count": 31,
      "metadata": {
        "id": "bRsagZiqsv6w"
      },
      "outputs": [],
      "source": [
        "def plot_confusion_matrix(cm,classes,normalize=False,title='Confusion matrix',cmap=plt.cm.Blues):\n",
        "  plt.imshow(cm,interpolation='nearest',cmap=cmap)\n",
        "  plt.title(title)\n",
        "  plt.colorbar()\n",
        "  tick_marks=np.arange(len(classes))\n",
        "  plt.xticks(tick_marks,classes,rotation=45)\n",
        "  plt.yticks(tick_marks,classes)\n",
        "\n",
        "  if normalize:\n",
        "    cm=cm.astype('float')/cm.sum(axis=1)[:,np.newaxis]\n",
        "    print(\"Normalized Confusionj Matrix\")\n",
        "  else:\n",
        "    print(\"Confusion matrix, without normalization\")\n",
        "\n",
        "  thresh=cm.max()/2\n",
        "  for i,j in itertools.product(range(cm.shape[0]),range(cm.shape[1])):\n",
        "    plt.text(j,i,cm[i,j],horizontalalignment=\"center\",color=\"white\" if cm[i,j] > thresh else \"black\")\n",
        "\n",
        "  plt.tight_layout()\n",
        "  plt.ylabel('True label')\n",
        "  plt.xlabel('Predicted label')"
      ]
    },
    {
      "cell_type": "code",
      "execution_count": 32,
      "metadata": {
        "id": "gGCgD5U5dEoS"
      },
      "outputs": [],
      "source": [
        " #Bag of words (first approach)\n",
        "count_vectorizer=CountVectorizer(stop_words='english')\n",
        "count_train=count_vectorizer.fit_transform(X_train) #fit and then transform\n",
        "count_test=count_vectorizer.transform(X_test) # transform depending on test\n",
        "# performing fit_transform for train datset and transform for test dataset"
      ]
    },
    {
      "cell_type": "code",
      "execution_count": 33,
      "metadata": {
        "colab": {
          "base_uri": "https://localhost:8080/",
          "height": 541
        },
        "id": "aFCJreK9pcq5",
        "outputId": "6de13b60-f705-4acc-fd0b-535790bbf86c"
      },
      "outputs": [
        {
          "name": "stdout",
          "output_type": "stream",
          "text": [
            "accuracy: 0.970\n",
            "Confusion matrix, without normalization\n"
          ]
        },
        {
          "data": {
            "image/png": "[encoded data removed]",
            "text/plain": [
              "<Figure size 640x480 with 2 Axes>"
            ]
          },
          "metadata": {},
          "output_type": "display_data"
        }
      ],
      "source": [
        "# machine learning algorithm ( naive bayes)\n",
        "\n",
        "mnb=MultinomialNB()\n",
        "mnb.fit(count_train,y_train)\n",
        "pred=mnb.predict(count_test)\n",
        "score=metrics.accuracy_score(y_test,pred)\n",
        "print(\"accuracy: %0.3f\" % score)\n",
        "\n",
        "cm=metrics.confusion_matrix(y_test,pred,labels=['Birth Control','Depression','Diabetes, Type 2','High Blood Pressure'])\n",
        "plot_confusion_matrix(cm,classes=['Birth Control','Depression','Diabetes, Type 2', 'High Blood Pressure'])"
      ]
    },
    {
      "cell_type": "code",
      "execution_count": 34,
      "metadata": {
        "colab": {
          "base_uri": "https://localhost:8080/",
          "height": 541
        },
        "id": "7lJeScRiqRaF",
        "outputId": "cfc8e16d-7268-48cf-9fb2-286afddd3f9d"
      },
      "outputs": [
        {
          "name": "stdout",
          "output_type": "stream",
          "text": [
            "accuracy: 0.978\n",
            "Confusion matrix, without normalization\n"
          ]
        },
        {
          "data": {
            "image/png": "[encoded data removed]",
            "text/plain": [
              "<Figure size 640x480 with 2 Axes>"
            ]
          },
          "metadata": {},
          "output_type": "display_data"
        }
      ],
      "source": [
        "from sklearn.linear_model import PassiveAggressiveClassifier, LogisticRegression\n",
        "\n",
        "passive=PassiveAggressiveClassifier()\n",
        "passive.fit(count_train,y_train)\n",
        "pred=passive.predict(count_test)\n",
        "score=metrics.accuracy_score(y_test,pred)\n",
        "print(\"accuracy: %0.3f\" % score)\n",
        "cm=metrics.confusion_matrix(y_test,pred,labels=['Birth Control','Depression','Diabetes, Type 2','High Blood Pressure'])\n",
        "plot_confusion_matrix(cm,classes=['Birth Control','Depression','Diabetes, Type 2', 'High Blood Pressure'])"
      ]
    },
    {
      "cell_type": "code",
      "execution_count": 35,
      "metadata": {
        "id": "d0RGETjNq57_"
      },
      "outputs": [],
      "source": [
        "# TFIDF (second approach)\n",
        "\n",
        "from sklearn.feature_extraction.text import TfidfVectorizer\n",
        "tfidf_vectorizer=TfidfVectorizer(stop_words='english',max_df=0.8)\n",
        "tfidf_train_2 = tfidf_vectorizer.fit_transform(X_train)\n",
        "tfidf_test_2 = tfidf_vectorizer.transform(X_test)\n",
        "\n",
        "\n"
      ]
    },
    {
      "cell_type": "code",
      "execution_count": 36,
      "metadata": {
        "colab": {
          "base_uri": "https://localhost:8080/",
          "height": 541
        },
        "id": "ll7RqT_CoRyk",
        "outputId": "4371f8f5-d531-4c6f-8158-4747556774ee"
      },
      "outputs": [
        {
          "name": "stdout",
          "output_type": "stream",
          "text": [
            "accuracy: 0.921\n",
            "Confusion matrix, without normalization\n"
          ]
        },
        {
          "data": {
            "image/png": "[encoded data removed]",
            "text/plain": [
              "<Figure size 640x480 with 2 Axes>"
            ]
          },
          "metadata": {},
          "output_type": "display_data"
        }
      ],
      "source": [
        "# Machine Learning Model Naive Bayes\n",
        "\n",
        "mnb_tf=MultinomialNB()\n",
        "mnb_tf.fit(tfidf_train_2,y_train)\n",
        "pred=mnb_tf.predict(tfidf_test_2)\n",
        "score=metrics.accuracy_score(y_test,pred)\n",
        "print(\"accuracy: %0.3f\" % score)\n",
        "cm=metrics.confusion_matrix(y_test,pred,labels=['Birth Control','Depression','Diabetes, Type 2','High Blood Pressure'])\n",
        "plot_confusion_matrix(cm,classes=['Birth Control','Depression','Diabetes, Type 2', 'High Blood Pressure'])\n"
      ]
    },
    {
      "cell_type": "code",
      "execution_count": 37,
      "metadata": {
        "colab": {
          "base_uri": "https://localhost:8080/",
          "height": 541
        },
        "id": "lhRrWL8Cj1N6",
        "outputId": "999afc32-f8c3-47fc-fc08-dd81a0ad082d"
      },
      "outputs": [
        {
          "name": "stdout",
          "output_type": "stream",
          "text": [
            "accuracy: 0.982\n",
            "Confusion matrix, without normalization\n"
          ]
        },
        {
          "data": {
            "image/png": "[encoded data removed]",
            "text/plain": [
              "<Figure size 640x480 with 2 Axes>"
            ]
          },
          "metadata": {},
          "output_type": "display_data"
        }
      ],
      "source": [
        "# Machine Learning Model TFIDF\n",
        "tfidf_vectorizer=TfidfVectorizer(stop_words='english',max_df=0.8)\n",
        "tfidf_train = tfidf_vectorizer.fit_transform(X_train)\n",
        "tfidf_test=tfidf_vectorizer.transform(X_test)\n",
        "\n",
        "pass_tf_1=PassiveAggressiveClassifier()\n",
        "pass_tf_1.fit(tfidf_train, y_train)\n",
        "pred=pass_tf_1.predict(tfidf_test)\n",
        "score=metrics.accuracy_score(y_test,pred)\n",
        "print(\"accuracy: %0.3f\" % score)\n",
        "cm=metrics.confusion_matrix(y_test,pred,labels=['Birth Control','Depression','Diabetes, Type 2','High Blood Pressure'])\n",
        "plot_confusion_matrix(cm,classes=['Birth Control','Depression','Diabetes, Type 2', 'High Blood Pressure'])\n",
        "\n"
      ]
    },
    {
      "cell_type": "code",
      "execution_count": 38,
      "metadata": {
        "colab": {
          "base_uri": "https://localhost:8080/"
        },
        "id": "MgNSqdaYscq_",
        "outputId": "ef350960-9451-4594-908a-9497e66e1925"
      },
      "outputs": [
        {
          "data": {
            "text/plain": [
              "(8547, 15995)"
            ]
          },
          "execution_count": 38,
          "metadata": {},
          "output_type": "execute_result"
        }
      ],
      "source": [
        "tfidf_test.shape"
      ]
    },
    {
      "cell_type": "code",
      "execution_count": 39,
      "metadata": {
        "id": "FKSEPC-xnxN4"
      },
      "outputs": [],
      "source": [
        "# TFIDF: Bigrams\n",
        "\n",
        "tfidf_vectorizer2=TfidfVectorizer(stop_words='english',max_df=0.8,ngram_range=(1,2))\n",
        "tdidf_train_bigram=tfidf_vectorizer2.fit_transform(X_train)\n",
        "tfidf_test_bigram=tfidf_vectorizer2.transform(X_test)\n"
      ]
    },
    {
      "cell_type": "code",
      "execution_count": 40,
      "metadata": {
        "colab": {
          "base_uri": "https://localhost:8080/",
          "height": 541
        },
        "id": "vVXQwwXSp8kn",
        "outputId": "0c421452-9271-4b39-8e4d-368c5b7c7ef4"
      },
      "outputs": [
        {
          "name": "stdout",
          "output_type": "stream",
          "text": [
            "accuracy: 0.986\n",
            "Confusion matrix, without normalization\n"
          ]
        },
        {
          "data": {
            "image/png": "[encoded data removed]",
            "text/plain": [
              "<Figure size 640x480 with 2 Axes>"
            ]
          },
          "metadata": {},
          "output_type": "display_data"
        }
      ],
      "source": [
        "\n",
        "pass_tf=PassiveAggressiveClassifier()\n",
        "pass_tf.fit(tdidf_train_bigram,y_train)\n",
        "pred=pass_tf.predict(tfidf_test_bigram)\n",
        "score=metrics.accuracy_score(y_test,pred)\n",
        "print(\"accuracy: %0.3f\" % score)\n",
        "cm=metrics.confusion_matrix(y_test,pred,labels=['Birth Control','Depression','Diabetes, Type 2','High Blood Pressure'])\n",
        "plot_confusion_matrix(cm,classes=['Birth Control','Depression','Diabetes, Type 2', 'High Blood Pressure'])\n",
        "\n",
        "\n"
      ]
    },
    {
      "cell_type": "code",
      "execution_count": 41,
      "metadata": {
        "id": "wI22JWKFqfqL"
      },
      "outputs": [],
      "source": [
        "# TFIDF: Trigrams\n",
        "\n",
        "tfidf_vectorizer3=TfidfVectorizer(stop_words='english',max_df=0.8,ngram_range=(1,3))\n",
        "tdidf_train_Trigram=tfidf_vectorizer3.fit_transform(X_train)\n",
        "tfidf_test_Trigram=tfidf_vectorizer3.transform(X_test)"
      ]
    },
    {
      "cell_type": "code",
      "execution_count": 42,
      "metadata": {
        "colab": {
          "base_uri": "https://localhost:8080/",
          "height": 541
        },
        "id": "DSxuizXPuyEW",
        "outputId": "e806c292-7825-4a01-8f9e-7e4e5018bffa"
      },
      "outputs": [
        {
          "name": "stdout",
          "output_type": "stream",
          "text": [
            "accuracy: 0.986\n",
            "Confusion matrix, without normalization\n"
          ]
        },
        {
          "data": {
            "image/png": "[encoded data removed]",
            "text/plain": [
              "<Figure size 640x480 with 2 Axes>"
            ]
          },
          "metadata": {},
          "output_type": "display_data"
        }
      ],
      "source": [
        "pass_tf_trigram=PassiveAggressiveClassifier()\n",
        "pass_tf_trigram.fit(tdidf_train_Trigram,y_train)\n",
        "pred=pass_tf_trigram.predict(tfidf_test_Trigram)\n",
        "score=metrics.accuracy_score(y_test,pred)\n",
        "print(\"accuracy: %0.3f\" % score)\n",
        "cm=metrics.confusion_matrix(y_test,pred,labels=['Birth Control','Depression','Diabetes, Type 2','High Blood Pressure'])\n",
        "plot_confusion_matrix(cm,classes=['Birth Control','Depression','Diabetes, Type 2', 'High Blood Pressure'])\n"
      ]
    },
    {
      "cell_type": "code",
      "execution_count": 43,
      "metadata": {
        "id": "wp-bWGyRvIlt"
      },
      "outputs": [],
      "source": [
        "# TFIDF: Anagrams\n",
        "\n",
        "tfidf_vectorizer4=TfidfVectorizer(stop_words='english',max_df=0.8,ngram_range=(1,4))\n",
        "tdidf_train_Anagram=tfidf_vectorizer4.fit_transform(X_train)\n",
        "tfidf_test_Anagram=tfidf_vectorizer4.transform(X_test)"
      ]
    },
    {
      "cell_type": "code",
      "execution_count": 44,
      "metadata": {
        "colab": {
          "base_uri": "https://localhost:8080/",
          "height": 541
        },
        "id": "Zw5nxdpuvoNv",
        "outputId": "50e804e1-9c44-405a-f567-b41eeeccf080"
      },
      "outputs": [
        {
          "name": "stdout",
          "output_type": "stream",
          "text": [
            "accuracy: 0.985\n",
            "Confusion matrix, without normalization\n"
          ]
        },
        {
          "data": {
            "image/png": "[encoded data removed]",
            "text/plain": [
              "<Figure size 640x480 with 2 Axes>"
            ]
          },
          "metadata": {},
          "output_type": "display_data"
        }
      ],
      "source": [
        "pass_tf=PassiveAggressiveClassifier()\n",
        "pass_tf.fit(tdidf_train_Anagram,y_train)\n",
        "pred=pass_tf.predict(tfidf_test_Anagram)\n",
        "score=metrics.accuracy_score(y_test,pred)\n",
        "print(\"accuracy: %0.3f\" % score)\n",
        "cm=metrics.confusion_matrix(y_test,pred,labels=['Birth Control','Depression','Diabetes, Type 2','High Blood Pressure'])\n",
        "plot_confusion_matrix(cm,classes=['Birth Control','Depression','Diabetes, Type 2', 'High Blood Pressure'])"
      ]
    },
    {
      "cell_type": "code",
      "execution_count": 45,
      "metadata": {
        "id": "35IVyacBvw2c"
      },
      "outputs": [],
      "source": [
        "# Most important Features ( findinf main reason for certain class)\n",
        "\n",
        "def most_informative_feature_for_class(vectorizer,classifier,classlabel,n=10): # n denotes top number reasons for certain class\n",
        "  labelid=list(classifier.classes_).index(classlabel)\n",
        "  feature_names=vectorizer.get_feature_names_out()\n",
        "  topn=sorted(zip(classifier.coef_[labelid],feature_names))[-n:]\n",
        "\n",
        "  for coef,feat in topn:\n",
        "    print(classlabel,feat,coef)"
      ]
    },
    {
      "cell_type": "code",
      "execution_count": 46,
      "metadata": {
        "colab": {
          "base_uri": "https://localhost:8080/"
        },
        "id": "7ZMUTGxjz0lu",
        "outputId": "15f72567-f6e4-4de1-9c21-fb48d787eb5d"
      },
      "outputs": [
        {
          "name": "stdout",
          "output_type": "stream",
          "text": [
            "Birth Control creatine 0.36322423071746607\n",
            "Birth Control ecellent 0.38047619248319964\n",
            "Birth Control farewell 0.38990303453644587\n",
            "Birth Control potassium 0.4061326872857254\n",
            "Birth Control fixating 0.4681302072420203\n",
            "Birth Control academic 0.5004410275983983\n",
            "Birth Control alleviate 0.5202245928261975\n",
            "Birth Control afterewards 0.6143052002938187\n",
            "Birth Control effortlessly 1.42602181472308\n",
            "Birth Control node 7.630499738152262\n"
          ]
        }
      ],
      "source": [
        "most_informative_feature_for_class(tfidf_vectorizer, pass_tf,'Birth Control')"
      ]
    },
    {
      "cell_type": "code",
      "execution_count": 47,
      "metadata": {
        "colab": {
          "base_uri": "https://localhost:8080/"
        },
        "id": "H7yUEApEz9Em",
        "outputId": "13b8d5eb-dd99-4f3b-bb6e-b26c8b1515da"
      },
      "outputs": [
        {
          "name": "stdout",
          "output_type": "stream",
          "text": [
            "Depression evidently 0.37913395803082206\n",
            "Depression evaporate 0.3857642848260348\n",
            "Depression chicken 0.39539176075294324\n",
            "Depression butnever 0.3978212448724859\n",
            "Depression bathtub 0.46019795639261163\n",
            "Depression hoorah 0.5358699363430047\n",
            "Depression hypotension 0.6275050410451434\n",
            "Depression bcz 1.1274073821194885\n",
            "Depression blisovi 1.1400859020788505\n",
            "Depression applicable 3.8122459225662064\n"
          ]
        }
      ],
      "source": [
        "most_informative_feature_for_class(tfidf_vectorizer, pass_tf,'Depression')"
      ]
    },
    {
      "cell_type": "code",
      "execution_count": 48,
      "metadata": {
        "colab": {
          "base_uri": "https://localhost:8080/"
        },
        "id": "7CsnfLgS0fBL",
        "outputId": "6e002358-e84a-4a16-dd21-4a3027515c19"
      },
      "outputs": [
        {
          "name": "stdout",
          "output_type": "stream",
          "text": [
            "High Blood Pressure monotherepy 0.41917317621029665\n",
            "High Blood Pressure nauseousness 0.4800638638864727\n",
            "High Blood Pressure cap 0.5058559107489268\n",
            "High Blood Pressure capability 0.5058559107489268\n",
            "High Blood Pressure mgas 0.5831978265081172\n",
            "High Blood Pressure lastest 0.5886096781219027\n",
            "High Blood Pressure lashing 0.5941113471722265\n",
            "High Blood Pressure myfitnesspal 0.6721319685005887\n",
            "High Blood Pressure lean 0.7165577199243931\n",
            "High Blood Pressure nausested 0.8984379841300797\n"
          ]
        }
      ],
      "source": [
        "most_informative_feature_for_class(tfidf_vectorizer, pass_tf,'High Blood Pressure')"
      ]
    },
    {
      "cell_type": "code",
      "execution_count": 49,
      "metadata": {
        "colab": {
          "base_uri": "https://localhost:8080/"
        },
        "id": "1Ns4g6cp0kuZ",
        "outputId": "0288d223-9b27-468c-8bef-eb71331f4936"
      },
      "outputs": [
        {
          "name": "stdout",
          "output_type": "stream",
          "text": [
            "Diabetes, Type 2 lenght 0.262169875719862\n",
            "Diabetes, Type 2 length 0.262169875719862\n",
            "Diabetes, Type 2 academic 0.2769861343408272\n",
            "Diabetes, Type 2 nauseousness 0.31570693396752697\n",
            "Diabetes, Type 2 afterewards 0.34071521054443143\n",
            "Diabetes, Type 2 limping 0.3593217617847692\n",
            "Diabetes, Type 2 myfitnesspal 0.36477797891714675\n",
            "Diabetes, Type 2 alleviate 0.3815672068959707\n",
            "Diabetes, Type 2 carbonated 0.4648721852672746\n",
            "Diabetes, Type 2 nexplanoninserted 0.7187232737317785\n"
          ]
        }
      ],
      "source": [
        "most_informative_feature_for_class(tfidf_vectorizer, pass_tf,'Diabetes, Type 2')"
      ]
    },
    {
      "cell_type": "code",
      "execution_count": 50,
      "metadata": {
        "colab": {
          "base_uri": "https://localhost:8080/",
          "height": 1000
        },
        "id": "MJaW-rX00pvW",
        "outputId": "cda6c857-b9a0-480d-fffc-edee5c6556ce"
      },
      "outputs": [
        {
          "data": {
            "text/html": [
              "\n",
              "  <div id=\"df-1d70ac9b-855e-4925-a00c-ffccc7fc812a\" class=\"colab-df-container\">\n",
              "    <div>\n",
              "<style scoped>\n",
              "    .dataframe tbody tr th:only-of-type {\n",
              "        vertical-align: middle;\n",
              "    }\n",
              "\n",
              "    .dataframe tbody tr th {\n",
              "        vertical-align: top;\n",
              "    }\n",
              "\n",
              "    .dataframe thead th {\n",
              "        text-align: right;\n",
              "    }\n",
              "</style>\n",
              "<table border=\"1\" class=\"dataframe\">\n",
              "  <thead>\n",
              "    <tr style=\"text-align: right;\">\n",
              "      <th></th>\n",
              "      <th>condition</th>\n",
              "      <th>review</th>\n",
              "      <th>review_clean</th>\n",
              "    </tr>\n",
              "  </thead>\n",
              "  <tbody>\n",
              "    <tr>\n",
              "      <th>161273</th>\n",
              "      <td>Birth Control</td>\n",
              "      <td>I have had the Nexplanon since Dec. 27, 2016 \\r\\r\\nI got my first period at the end of January and it lasted about a month and a half. In March of 2017 I didn&amp;#039;t bleed for close to three weeks and then started bleeding again March 28th and have been bleeding every since. I have gained about 13 lbs so far since getting the birth control. Although for now the weight gain isn&amp;#039;t a deal breaker for me but the bleeding is..  I am trying to be very patient to see how my body adjusts to the implant. It has been three months so far and I have my fingers crossed that my cycle will go away for awhile.</td>\n",
              "      <td>nexplanon since dec got first period end january lasted month half march bleed close three week started bleeding march th bleeding every since gained lb far since getting birth control although weight gain deal breaker bleeding trying patient see body adjusts implant three month far finger crossed cycle go away awhile</td>\n",
              "    </tr>\n",
              "    <tr>\n",
              "      <th>161278</th>\n",
              "      <td>Diabetes, Type 2</td>\n",
              "      <td>I just got diagnosed with type 2. My doctor prescribed Invokana and metformin from the beginning. My sugars went down to normal by the second week. I  am losing so much weight. No side effects yet. Miracle medicine for me</td>\n",
              "      <td>got diagnosed type doctor prescribed invokana metformin beginning sugar went normal second week losing much weight side effect yet miracle medicine</td>\n",
              "    </tr>\n",
              "    <tr>\n",
              "      <th>161286</th>\n",
              "      <td>Depression</td>\n",
              "      <td>This is the third med I&amp;#039;ve tried for anxiety and mild depression. Been on it for a week and I hate it so much. I am so dizzy, I have major diarrhea and feel worse than I started. Contacting my doc in the am  and changing asap.</td>\n",
              "      <td>third med tried anxiety mild depression week hate much dizzy major diarrhea feel worse started contacting doc changing asap</td>\n",
              "    </tr>\n",
              "    <tr>\n",
              "      <th>161290</th>\n",
              "      <td>High Blood Pressure</td>\n",
              "      <td>I have only been on Tekturna for 9 days. The effect was immediate. I am also on a calcium channel blocker (Tiazac) and hydrochlorothiazide. I was put on Tekturna because of palpitations experienced with Diovan (ugly drug in my opinion, same company produces both however). The palpitations were pretty bad on Diovan, 24 hour monitor by EKG etc. After a few days of substituting Tekturna for Diovan, there are no more palpitations.</td>\n",
              "      <td>tekturna day effect immediate also calcium channel blocker tiazac hydrochlorothiazide put tekturna palpitation experienced diovan ugly drug opinion company produce however palpitation pretty bad diovan hour monitor ekg etc day substituting tekturna diovan palpitation</td>\n",
              "    </tr>\n",
              "    <tr>\n",
              "      <th>161291</th>\n",
              "      <td>Birth Control</td>\n",
              "      <td>This would be my second month on Junel. I&amp;#039;ve been on Birth Control for about 10 years now. I changed due to spotting and increased mood swings with my previous birth control. Since the switch I have had shorter periods about 2-3 days, but I have gained major weight and increased appetite. I switched up my regular exercise routine and still have not managed to drop the extra 7 lbs ;(</td>\n",
              "      <td>would second month junel birth control year changed due spotting increased mood swing previous birth control since switch shorter period day gained major weight increased appetite switched regular exercise routine still managed drop extra lb</td>\n",
              "    </tr>\n",
              "  </tbody>\n",
              "</table>\n",
              "</div>\n",
              "    <div class=\"colab-df-buttons\">\n",
              "\n",
              "  <div class=\"colab-df-container\">\n",
              "    <button class=\"colab-df-convert\" onclick=\"convertToInteractive('df-1d70ac9b-855e-4925-a00c-ffccc7fc812a')\"\n",
              "            title=\"Convert this dataframe to an interactive table.\"\n",
              "            style=\"display:none;\">\n",
              "\n",
              "  <svg xmlns=\"http://www.w3.org/2000/svg\" height=\"24px\" viewBox=\"0 -960 960 960\">\n",
              "    <path d=\"M120-120v-720h720v720H120Zm60-500h600v-160H180v160Zm220 220h160v-160H400v160Zm0 220h160v-160H400v160ZM180-400h160v-160H180v160Zm440 0h160v-160H620v160ZM180-180h160v-160H180v160Zm440 0h160v-160H620v160Z\"/>\n",
              "  </svg>\n",
              "    </button>\n",
              "\n",
              "  <style>\n",
              "    .colab-df-container {\n",
              "      display:flex;\n",
              "      gap: 12px;\n",
              "    }\n",
              "\n",
              "    .colab-df-convert {\n",
              "      background-color: #E8F0FE;\n",
              "      border: none;\n",
              "      border-radius: 50%;\n",
              "      cursor: pointer;\n",
              "      display: none;\n",
              "      fill: #1967D2;\n",
              "      height: 32px;\n",
              "      padding: 0 0 0 0;\n",
              "      width: 32px;\n",
              "    }\n",
              "\n",
              "    .colab-df-convert:hover {\n",
              "      background-color: #E2EBFA;\n",
              "      box-shadow: 0px 1px 2px rgba(60, 64, 67, 0.3), 0px 1px 3px 1px rgba(60, 64, 67, 0.15);\n",
              "      fill: #174EA6;\n",
              "    }\n",
              "\n",
              "    .colab-df-buttons div {\n",
              "      margin-bottom: 4px;\n",
              "    }\n",
              "\n",
              "    [theme=dark] .colab-df-convert {\n",
              "      background-color: #3B4455;\n",
              "      fill: #D2E3FC;\n",
              "    }\n",
              "\n",
              "    [theme=dark] .colab-df-convert:hover {\n",
              "      background-color: #434B5C;\n",
              "      box-shadow: 0px 1px 3px 1px rgba(0, 0, 0, 0.15);\n",
              "      filter: drop-shadow(0px 1px 2px rgba(0, 0, 0, 0.3));\n",
              "      fill: #FFFFFF;\n",
              "    }\n",
              "  </style>\n",
              "\n",
              "    <script>\n",
              "      const buttonEl =\n",
              "        document.querySelector('#df-1d70ac9b-855e-4925-a00c-ffccc7fc812a button.colab-df-convert');\n",
              "      buttonEl.style.display =\n",
              "        google.colab.kernel.accessAllowed ? 'block' : 'none';\n",
              "\n",
              "      async function convertToInteractive(key) {\n",
              "        const element = document.querySelector('#df-1d70ac9b-855e-4925-a00c-ffccc7fc812a');\n",
              "        const dataTable =\n",
              "          await google.colab.kernel.invokeFunction('convertToInteractive',\n",
              "                                                    [key], {});\n",
              "        if (!dataTable) return;\n",
              "\n",
              "        const docLinkHtml = 'Like what you see? Visit the ' +\n",
              "          '<a target=\"_blank\" href=https://colab.research.google.com/notebooks/data_table.ipynb>data table notebook</a>'\n",
              "          + ' to learn more about interactive tables.';\n",
              "        element.innerHTML = '';\n",
              "        dataTable['output_type'] = 'display_data';\n",
              "        await google.colab.output.renderOutput(dataTable, element);\n",
              "        const docLink = document.createElement('div');\n",
              "        docLink.innerHTML = docLinkHtml;\n",
              "        element.appendChild(docLink);\n",
              "      }\n",
              "    </script>\n",
              "  </div>\n",
              "\n",
              "\n",
              "<div id=\"df-fc03ffa6-d8b6-45af-a436-3254fc9b677f\">\n",
              "  <button class=\"colab-df-quickchart\" onclick=\"quickchart('df-fc03ffa6-d8b6-45af-a436-3254fc9b677f')\"\n",
              "            title=\"Suggest charts.\"\n",
              "            style=\"display:none;\">\n",
              "\n",
              "<svg xmlns=\"http://www.w3.org/2000/svg\" height=\"24px\"viewBox=\"0 0 24 24\"\n",
              "     width=\"24px\">\n",
              "    <g>\n",
              "        <path d=\"M19 3H5c-1.1 0-2 .9-2 2v14c0 1.1.9 2 2 2h14c1.1 0 2-.9 2-2V5c0-1.1-.9-2-2-2zM9 17H7v-7h2v7zm4 0h-2V7h2v10zm4 0h-2v-4h2v4z\"/>\n",
              "    </g>\n",
              "</svg>\n",
              "  </button>\n",
              "\n",
              "<style>\n",
              "  .colab-df-quickchart {\n",
              "    background-color: #E8F0FE;\n",
              "    border: none;\n",
              "    border-radius: 50%;\n",
              "    cursor: pointer;\n",
              "    display: none;\n",
              "    fill: #1967D2;\n",
              "    height: 32px;\n",
              "    padding: 0 0 0 0;\n",
              "    width: 32px;\n",
              "  }\n",
              "\n",
              "  .colab-df-quickchart:hover {\n",
              "    background-color: #E2EBFA;\n",
              "    box-shadow: 0px 1px 2px rgba(60, 64, 67, 0.3), 0px 1px 3px 1px rgba(60, 64, 67, 0.15);\n",
              "    fill: #174EA6;\n",
              "  }\n",
              "\n",
              "  [theme=dark] .colab-df-quickchart {\n",
              "    background-color: #3B4455;\n",
              "    fill: #D2E3FC;\n",
              "  }\n",
              "\n",
              "  [theme=dark] .colab-df-quickchart:hover {\n",
              "    background-color: #434B5C;\n",
              "    box-shadow: 0px 1px 3px 1px rgba(0, 0, 0, 0.15);\n",
              "    filter: drop-shadow(0px 1px 2px rgba(0, 0, 0, 0.3));\n",
              "    fill: #FFFFFF;\n",
              "  }\n",
              "</style>\n",
              "\n",
              "  <script>\n",
              "    async function quickchart(key) {\n",
              "      const charts = await google.colab.kernel.invokeFunction(\n",
              "          'suggestCharts', [key], {});\n",
              "    }\n",
              "    (() => {\n",
              "      let quickchartButtonEl =\n",
              "        document.querySelector('#df-fc03ffa6-d8b6-45af-a436-3254fc9b677f button');\n",
              "      quickchartButtonEl.style.display =\n",
              "        google.colab.kernel.accessAllowed ? 'block' : 'none';\n",
              "    })();\n",
              "  </script>\n",
              "</div>\n",
              "    </div>\n",
              "  </div>\n"
            ],
            "text/plain": [
              "                  condition  \\\n",
              "161273  Birth Control         \n",
              "161278  Diabetes, Type 2      \n",
              "161286  Depression            \n",
              "161290  High Blood Pressure   \n",
              "161291  Birth Control         \n",
              "\n",
              "                                                                                                                                                                                                                                                                                                                                                                                                                                                                                                                                                                                                                                review  \\\n",
              "161273  I have had the Nexplanon since Dec. 27, 2016 \\r\\r\\nI got my first period at the end of January and it lasted about a month and a half. In March of 2017 I didn&#039;t bleed for close to three weeks and then started bleeding again March 28th and have been bleeding every since. I have gained about 13 lbs so far since getting the birth control. Although for now the weight gain isn&#039;t a deal breaker for me but the bleeding is..  I am trying to be very patient to see how my body adjusts to the implant. It has been three months so far and I have my fingers crossed that my cycle will go away for awhile.   \n",
              "161278  I just got diagnosed with type 2. My doctor prescribed Invokana and metformin from the beginning. My sugars went down to normal by the second week. I  am losing so much weight. No side effects yet. Miracle medicine for me                                                                                                                                                                                                                                                                                                                                                                                                    \n",
              "161286  This is the third med I&#039;ve tried for anxiety and mild depression. Been on it for a week and I hate it so much. I am so dizzy, I have major diarrhea and feel worse than I started. Contacting my doc in the am  and changing asap.                                                                                                                                                                                                                                                                                                                                                                                          \n",
              "161290  I have only been on Tekturna for 9 days. The effect was immediate. I am also on a calcium channel blocker (Tiazac) and hydrochlorothiazide. I was put on Tekturna because of palpitations experienced with Diovan (ugly drug in my opinion, same company produces both however). The palpitations were pretty bad on Diovan, 24 hour monitor by EKG etc. After a few days of substituting Tekturna for Diovan, there are no more palpitations.                                                                                                                                                                                   \n",
              "161291  This would be my second month on Junel. I&#039;ve been on Birth Control for about 10 years now. I changed due to spotting and increased mood swings with my previous birth control. Since the switch I have had shorter periods about 2-3 days, but I have gained major weight and increased appetite. I switched up my regular exercise routine and still have not managed to drop the extra 7 lbs ;(                                                                                                                                                                                                                           \n",
              "\n",
              "                                                                                                                                                                                                                                                                                                                           review_clean  \n",
              "161273  nexplanon since dec got first period end january lasted month half march bleed close three week started bleeding march th bleeding every since gained lb far since getting birth control although weight gain deal breaker bleeding trying patient see body adjusts implant three month far finger crossed cycle go away awhile  \n",
              "161278  got diagnosed type doctor prescribed invokana metformin beginning sugar went normal second week losing much weight side effect yet miracle medicine                                                                                                                                                                              \n",
              "161286  third med tried anxiety mild depression week hate much dizzy major diarrhea feel worse started contacting doc changing asap                                                                                                                                                                                                      \n",
              "161290  tekturna day effect immediate also calcium channel blocker tiazac hydrochlorothiazide put tekturna palpitation experienced diovan ugly drug opinion company produce however palpitation pretty bad diovan hour monitor ekg etc day substituting tekturna diovan palpitation                                                      \n",
              "161291  would second month junel birth control year changed due spotting increased mood swing previous birth control since switch shorter period day gained major weight increased appetite switched regular exercise routine still managed drop extra lb                                                                                "
            ]
          },
          "execution_count": 50,
          "metadata": {},
          "output_type": "execute_result"
        }
      ],
      "source": [
        "# Sample predictions\n",
        "\n",
        "X.tail()"
      ]
    },
    {
      "cell_type": "code",
      "execution_count": 51,
      "metadata": {
        "colab": {
          "base_uri": "https://localhost:8080/"
        },
        "id": "QGwZne1w12ss",
        "outputId": "cba24153-1150-4456-c44f-7544a53037d3"
      },
      "outputs": [
        {
          "name": "stdout",
          "output_type": "stream",
          "text": [
            "Predicted Label: High Blood Pressure\n"
          ]
        }
      ],
      "source": [
        "#Sample Predictions\n",
        "\n",
        "text=[\"I have only been on Tekturna for 9 days. The effect was immediate. I am also on a calcium channel blocker (Tiazac) and hydrochlorothiazide. I was put on Tekturna because of palpitations experienced with Diovan (ugly drug in my opinion, same company produces both however). The palpitations were pretty bad on Diovan, 24 hour monitor by EKG etc. After a few days of substituting Tekturna for Diovan, there are no more palpitations.\"]\n",
        "test = tfidf_vectorizer.transform(text)\n",
        "pred1=pass_tf_1.predict(test)[0]\n",
        "print(\"Predicted Label:\", pred1)\n"
      ]
    },
    {
      "cell_type": "code",
      "execution_count": 52,
      "metadata": {
        "colab": {
          "base_uri": "https://localhost:8080/"
        },
        "id": "L7FsgE-d2Jxh",
        "outputId": "b183a2dd-944a-4252-f10a-9671a5a27203"
      },
      "outputs": [
        {
          "name": "stdout",
          "output_type": "stream",
          "text": [
            "Predicted Label: Birth Control\n"
          ]
        }
      ],
      "source": [
        "text=[\"This would be my second month on Junel. I&#039;ve been on Birth Control for about 10 years now. I changed due to spotting and increased mood swings with my previous birth control. Since the switch I have had shorter periods about 2-3 days, but I have gained major weight and increased appetite. I switched up my regular exercise routine and still have not managed to drop the extra 7 lbs ;(\"]\n",
        "test = tfidf_vectorizer.transform(text)\n",
        "pred1=pass_tf_1.predict(test)[0]\n",
        "print(\"Predicted Label:\", pred1)"
      ]
    },
    {
      "cell_type": "code",
      "execution_count": 53,
      "metadata": {
        "colab": {
          "base_uri": "https://localhost:8080/"
        },
        "id": "zFoTaKPbETw7",
        "outputId": "90cdf14e-54a9-4b4a-9dcc-5224d93e72b8"
      },
      "outputs": [
        {
          "name": "stdout",
          "output_type": "stream",
          "text": [
            "Predicted Label: Depression\n"
          ]
        }
      ],
      "source": [
        "text=[\"This is the third med I&#039;ve tried for anxiety and mild depression. Been on it for a week and I hate it so much. I am so dizzy, I have major diarrhea and feel worse than I started. Contacting my doc in the am and changing asap.\"]\n",
        "test = tfidf_vectorizer.transform(text)\n",
        "pred1=pass_tf_1.predict(test)[0]\n",
        "print(\"Predicted Label:\", pred1)"
      ]
    },
    {
      "cell_type": "code",
      "execution_count": 54,
      "metadata": {
        "colab": {
          "base_uri": "https://localhost:8080/"
        },
        "id": "CgClqmrEHDwz",
        "outputId": "dd54772a-8c79-4193-f658-0c54ca26b7a8"
      },
      "outputs": [
        {
          "name": "stdout",
          "output_type": "stream",
          "text": [
            "Predicted Label: Diabetes, Type 2\n"
          ]
        }
      ],
      "source": [
        "text=[\"I just got diagnosed with type 2. My doctor prescribed Invokana and metformin from the beginning. My sugars went down to normal by the second week. I am losing so much weight. No side effects yet. Miracle medicine for me\"]\n",
        "test = tfidf_vectorizer.transform(text)\n",
        "pred1=pass_tf_1.predict(test)[0]\n",
        "print(\"Predicted Label:\", pred1)"
      ]
    },
    {
      "cell_type": "code",
      "execution_count": 55,
      "metadata": {
        "colab": {
          "base_uri": "https://localhost:8080/"
        },
        "id": "UsgSNNQUHJLN",
        "outputId": "10bc4879-78d7-4860-9471-de4a91886b09"
      },
      "outputs": [
        {
          "data": {
            "text/plain": [
              "['passmodel.pk1']"
            ]
          },
          "execution_count": 55,
          "metadata": {},
          "output_type": "execute_result"
        }
      ],
      "source": [
        "import joblib\n",
        "joblib.dump(tfidf_vectorizer3,'tfidfvectorizer.pk1')\n",
        "joblib.dump(pass_tf_trigram,'passmodel.pk1')\n"
      ]
    },
    {
      "cell_type": "code",
      "execution_count": 56,
      "metadata": {
        "colab": {
          "base_uri": "https://localhost:8080/",
          "height": 36
        },
        "id": "yYn0YLAu8V4G",
        "outputId": "237cc82f-2b27-442a-f510-085f9e74533c"
      },
      "outputs": [
        {
          "data": {
            "application/vnd.google.colaboratory.intrinsic+json": {
              "type": "string"
            },
            "text/plain": [
              "'High Blood Pressure'"
            ]
          },
          "execution_count": 56,
          "metadata": {},
          "output_type": "execute_result"
        }
      ],
      "source": [
        "vectorizer=joblib.load('tfidfvectorizer.pk1')\n",
        "model=joblib.load('passmodel.pk1')\n",
        "test=model.predict(vectorizer.transform(['I have only been on Tekturna for 9 days. The effect was immediate. I am also on a calcium channel blocker (Tiazac) and hydrochlorothiazide. I was put on Tekturna because of palpitations experienced with Diovan (ugly drug in my opinion, same company produces both however). The palpitations were pretty bad on Diovan, 24 hour monitor by EKG etc. After a few days of substituting Tekturna for Diovan, there are no more palpitations.']))\n",
        "test[0]\n"
      ]
    },
    {
      "cell_type": "code",
      "execution_count": 57,
      "metadata": {
        "id": "NKmXVNi0NT7W"
      },
      "outputs": [],
      "source": [
        "def top_drugs_extractor(condition):\n",
        "  df_top=df[(df['rating']>=9)&(df['usefulCount']>=100)].sort_values(by=['rating','usefulCount'],ascending=[False,False])\n",
        "  drug_lst=df_top[df_top['condition']==condition]['drugName'].head(3).tolist()\n",
        "  return drug_lst"
      ]
    },
    {
      "cell_type": "code",
      "execution_count": 58,
      "metadata": {
        "id": "BFsLCGvLMTOn"
      },
      "outputs": [],
      "source": [
        "def predict_text(lst_text):\n",
        "  df_test=pd.DataFrame(lst_text,columns=['test_sent'])\n",
        "  df_test[\"test_sent\"] = df_test[\"test_sent\"].apply(review_to_words)\n",
        "  tfidf_bigram=tfidf_vectorizer3.transform(lst_text)\n",
        "  prediction=pass_tf.predict(tfidf_test_bigram)\n",
        "  df_test['prediction'] = prediction\n",
        "  return df_test"
      ]
    },
    {
      "cell_type": "code",
      "execution_count": 59,
      "metadata": {
        "id": "8Vd0u5tGUp0S"
      },
      "outputs": [],
      "source": [
        "sentences=[\"I have had the Nexplanon since Dec. 27, 2016 \\r\\r\\nI got my first period at the end of January and it lasted about a month and a half. In March of 2017 I didn&#039;t bleed for close to three weeks and then started bleeding again March 28th and have been bleeding every since. I have gained about 13 lbs so far since getting the birth control. Although for now the weight gain isn&#039;t a deal breaker for me but the bleeding is.. I am trying to be very patient to see how my body adjusts to the implant. It has been three months so far and I have my fingers crossed that my cycle will go away for awhile.\",\"I just got diagnosed with type 2. My doctor prescribed Invokana and metformin from the beginning. My sugars went down to normal by the second week. I am losing so much weight. No side effects yet. Miracle medicine for me\",\"This is the third med I&#039;ve tried for anxiety and mild depression. Been on it for a week and I hate it so much. I am so dizzy, I have major diarrhea and feel worse than I started. Contacting my doc in the am and changing asap.\"]"
      ]
    },
    {
      "cell_type": "code",
      "execution_count": 60,
      "metadata": {
        "colab": {
          "base_uri": "https://localhost:8080/"
        },
        "id": "1082bpx6-HUU",
        "outputId": "220122ee-fb7d-487d-9dca-3721c49770aa"
      },
      "outputs": [
        {
          "name": "stdout",
          "output_type": "stream",
          "text": [
            "text: I have had the Nexplanon since Dec. 27, 2016 \r\r\n",
            "I got my first period at the end of January and it lasted about a month and a half. In March of 2017 I didn&#039;t bleed for close to three weeks and then started bleeding again March 28th and have been bleeding every since. I have gained about 13 lbs so far since getting the birth control. Although for now the weight gain isn&#039;t a deal breaker for me but the bleeding is.. I am trying to be very patient to see how my body adjusts to the implant. It has been three months so far and I have my fingers crossed that my cycle will go away for awhile. \n",
            "Condition: Birth Control\n",
            "Top 3 Suggested Drugs:\n",
            "Mirena\n",
            "Levonorgestrel\n",
            "Implanon\n",
            "\n",
            "text: I just got diagnosed with type 2. My doctor prescribed Invokana and metformin from the beginning. My sugars went down to normal by the second week. I am losing so much weight. No side effects yet. Miracle medicine for me \n",
            "Condition: Diabetes, Type 2\n",
            "Top 3 Suggested Drugs:\n",
            "Victoza\n",
            "Canagliflozin\n",
            "Invokana\n",
            "\n",
            "text: This is the third med I&#039;ve tried for anxiety and mild depression. Been on it for a week and I hate it so much. I am so dizzy, I have major diarrhea and feel worse than I started. Contacting my doc in the am and changing asap. \n",
            "Condition: Depression\n",
            "Top 3 Suggested Drugs:\n",
            "Sertraline\n",
            "Zoloft\n",
            "Viibryd\n",
            "\n"
          ]
        }
      ],
      "source": [
        "tfidf_trigram = tfidf_vectorizer3.transform(sentences)\n",
        "\n",
        "predictions=pass_tf_trigram.predict(tfidf_trigram)\n",
        "\n",
        "\n",
        "for text,label in zip(sentences,predictions):\n",
        "  if label==\"High Blood Pressure\":\n",
        "    target=\"Hight Blood Pressure\"\n",
        "    top_drugs=top_drugs_extractor(label)\n",
        "    print(\"text:\",text,\"\\nCondition:\",target)\n",
        "    print(\"Top 3 Suggested Drugs:\")\n",
        "    print(top_drugs[0])\n",
        "    print(top_drugs[1])\n",
        "    print(top_drugs[2])\n",
        "    print()\n",
        "  elif label==\"Depression\":\n",
        "    target=\"Depression\"\n",
        "    top_drugs=top_drugs_extractor(label)\n",
        "    print(\"text:\",text,\"\\nCondition:\",target)\n",
        "    print(\"Top 3 Suggested Drugs:\")\n",
        "    print(top_drugs[0])\n",
        "    print(top_drugs[1])\n",
        "    print(top_drugs[2])\n",
        "    print()\n",
        "  elif label==\"Diabetes, Type 2\":\n",
        "    target=\"Diabetes, Type 2\"\n",
        "    top_drugs=top_drugs_extractor(label)\n",
        "    print(\"text:\",text,\"\\nCondition:\",target)\n",
        "    print(\"Top 3 Suggested Drugs:\")\n",
        "    print(top_drugs[0])\n",
        "    print(top_drugs[1])\n",
        "    print(top_drugs[2])\n",
        "    print()\n",
        "  else:\n",
        "    target=\"Birth Control\"\n",
        "    top_drugs=top_drugs_extractor(label)\n",
        "    print(\"text:\",text,\"\\nCondition:\",target)\n",
        "    print(\"Top 3 Suggested Drugs:\")\n",
        "    print(top_drugs[0])\n",
        "    print(top_drugs[1])\n",
        "    print(top_drugs[2])\n",
        "    print()"
      ]
    },
    {
      "cell_type": "code",
      "execution_count": 60,
      "metadata": {
        "id": "tXxG6sjZVIue"
      },
      "outputs": [],
      "source": []
    }
  ],
  "metadata": {
    "colab": {
      "provenance": []
    },
    "kernelspec": {
      "display_name": "Python 3",
      "name": "python3"
    },
    "language_info": {
      "name": "python"
    }
  },
  "nbformat": 4,
  "nbformat_minor": 0
}
